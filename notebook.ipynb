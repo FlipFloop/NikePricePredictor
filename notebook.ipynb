{
 "cells": [
  {
   "cell_type": "markdown",
   "id": "b94108be",
   "metadata": {
    "id": "Ck00s7mTmnjA",
    "papermill": {
     "duration": 0.020893,
     "end_time": "2023-07-14T04:58:22.709767",
     "exception": false,
     "start_time": "2023-07-14T04:58:22.688874",
     "status": "completed"
    },
    "tags": []
   },
   "source": [
    "# Nike Shoes Dataset with TensorFlow Decision \n",
    "\n",
    "This code was based off a notebook for the Spaceship Titanic competition: [Spaceship Titanic with TFDF\n",
    "](https://www.kaggle.com/code/gusthema/spaceship-titanic-with-tfdf)"
   ]
  },
  {
   "cell_type": "markdown",
   "id": "4f4196fe",
   "metadata": {
    "id": "62leGXylmnjF",
    "papermill": {
     "duration": 0.01855,
     "end_time": "2023-07-14T04:58:22.747485",
     "exception": false,
     "start_time": "2023-07-14T04:58:22.728935",
     "status": "completed"
    },
    "tags": []
   },
   "source": [
    "This notebook walks you through how to train a baseline Random Forest model using TensorFlow Decision Forests.\n",
    "\n",
    "Roughly, the code will look as follows:\n",
    "\n",
    "```\n",
    "import tensorflow_decision_forests as tfdf\n",
    "import pandas as pd\n",
    "\n",
    "dataset = pd.read_csv(\"project/dataset.csv\")\n",
    "tf_dataset = tfdf.keras.pd_dataframe_to_tf_dataset(dataset, label=\"my_label\")\n",
    "\n",
    "model = tfdf.keras.RandomForestModel()\n",
    "model.fit(tf_dataset)\n",
    "\n",
    "print(model.summary())\n",
    "```\n",
    "\n",
    "Decision Forests are a family of tree-based models including Random Forests and Gradient Boosted Trees. They are the best place to start when working with tabular data, and will often outperform (or provide a strong baseline) before you begin experimenting with neural networks."
   ]
  },
  {
   "cell_type": "markdown",
   "id": "03152d86",
   "metadata": {
    "id": "UPNzfVOEmnjH",
    "papermill": {
     "duration": 0.018957,
     "end_time": "2023-07-14T04:58:22.787496",
     "exception": false,
     "start_time": "2023-07-14T04:58:22.768539",
     "status": "completed"
    },
    "tags": []
   },
   "source": [
    "# Import the library"
   ]
  },
  {
   "cell_type": "code",
   "execution_count": 726,
   "id": "fe1eb058",
   "metadata": {
    "execution": {
     "iopub.execute_input": "2023-07-14T04:58:22.829374Z",
     "iopub.status.busy": "2023-07-14T04:58:22.828844Z",
     "iopub.status.idle": "2023-07-14T04:58:34.618935Z",
     "shell.execute_reply": "2023-07-14T04:58:34.617139Z"
    },
    "id": "mmwBzpblmnjH",
    "papermill": {
     "duration": 11.814764,
     "end_time": "2023-07-14T04:58:34.623000",
     "exception": false,
     "start_time": "2023-07-14T04:58:22.808236",
     "status": "completed"
    },
    "tags": []
   },
   "outputs": [],
   "source": [
    "import tensorflow as tf\n",
    "import tensorflow_decision_forests as tfdf\n",
    "import pandas as pd\n",
    "import numpy as np\n",
    "import seaborn as sns\n",
    "import matplotlib.pyplot as plt"
   ]
  },
  {
   "cell_type": "code",
   "execution_count": 727,
   "id": "6c09af71",
   "metadata": {
    "execution": {
     "iopub.execute_input": "2023-07-14T04:58:34.666212Z",
     "iopub.status.busy": "2023-07-14T04:58:34.664284Z",
     "iopub.status.idle": "2023-07-14T04:58:34.673613Z",
     "shell.execute_reply": "2023-07-14T04:58:34.672421Z"
    },
    "id": "grAO86gTmnjJ",
    "papermill": {
     "duration": 0.033965,
     "end_time": "2023-07-14T04:58:34.676593",
     "exception": false,
     "start_time": "2023-07-14T04:58:34.642628",
     "status": "completed"
    },
    "tags": []
   },
   "outputs": [
    {
     "name": "stdout",
     "output_type": "stream",
     "text": [
      "TensorFlow v2.13.0\n",
      "TensorFlow Decision Forests v1.5.0\n"
     ]
    }
   ],
   "source": [
    "print(\"TensorFlow v\" + tf.__version__)\n",
    "print(\"TensorFlow Decision Forests v\" + tfdf.__version__)"
   ]
  },
  {
   "cell_type": "markdown",
   "id": "1faacf94",
   "metadata": {
    "id": "6sHFpppPmnjJ",
    "papermill": {
     "duration": 0.018799,
     "end_time": "2023-07-14T04:58:34.714981",
     "exception": false,
     "start_time": "2023-07-14T04:58:34.696182",
     "status": "completed"
    },
    "tags": []
   },
   "source": [
    "# Load the Dataset"
   ]
  },
  {
   "cell_type": "code",
   "execution_count": 728,
   "id": "7ce51809",
   "metadata": {
    "execution": {
     "iopub.execute_input": "2023-07-14T04:58:34.756509Z",
     "iopub.status.busy": "2023-07-14T04:58:34.755774Z",
     "iopub.status.idle": "2023-07-14T04:58:34.827882Z",
     "shell.execute_reply": "2023-07-14T04:58:34.826773Z"
    },
    "id": "c1P3Y3a7mnjL",
    "papermill": {
     "duration": 0.096641,
     "end_time": "2023-07-14T04:58:34.830976",
     "exception": false,
     "start_time": "2023-07-14T04:58:34.734335",
     "status": "completed"
    },
    "tags": []
   },
   "outputs": [
    {
     "name": "stdout",
     "output_type": "stream",
     "text": [
      "Full train dataset shape is (908, 15)\n"
     ]
    }
   ],
   "source": [
    "# Load a dataset into a Pandas Dataframe\n",
    "dataset_df = pd.read_csv('./shoes.csv')\n",
    "# dataset_df = pd.read_csv(\"/kaggle/input/shoepricedata/shoes.csv\")\n",
    "print(\"Full train dataset shape is {}\".format(dataset_df.shape))"
   ]
  },
  {
   "cell_type": "code",
   "execution_count": 729,
   "id": "9fad1e3d",
   "metadata": {
    "execution": {
     "iopub.execute_input": "2023-07-14T04:58:34.912709Z",
     "iopub.status.busy": "2023-07-14T04:58:34.911848Z",
     "iopub.status.idle": "2023-07-14T04:58:34.958872Z",
     "shell.execute_reply": "2023-07-14T04:58:34.957316Z"
    },
    "id": "nCx3PE1xmnjM",
    "papermill": {
     "duration": 0.072857,
     "end_time": "2023-07-14T04:58:34.962186",
     "exception": false,
     "start_time": "2023-07-14T04:58:34.889329",
     "status": "completed"
    },
    "tags": []
   },
   "outputs": [
    {
     "data": {
      "text/html": [
       "<div>\n",
       "<style scoped>\n",
       "    .dataframe tbody tr th:only-of-type {\n",
       "        vertical-align: middle;\n",
       "    }\n",
       "\n",
       "    .dataframe tbody tr th {\n",
       "        vertical-align: top;\n",
       "    }\n",
       "\n",
       "    .dataframe thead th {\n",
       "        text-align: right;\n",
       "    }\n",
       "</style>\n",
       "<table border=\"1\" class=\"dataframe\">\n",
       "  <thead>\n",
       "    <tr style=\"text-align: right;\">\n",
       "      <th></th>\n",
       "      <th>Shoe name</th>\n",
       "      <th>isNew</th>\n",
       "      <th>Gender</th>\n",
       "      <th>category</th>\n",
       "      <th>isBestSeller</th>\n",
       "      <th>isMemberExclusive</th>\n",
       "      <th>isSustainable</th>\n",
       "      <th>inStock</th>\n",
       "      <th>numColors</th>\n",
       "      <th>Color 1</th>\n",
       "      <th>Color 2</th>\n",
       "      <th>Color 3</th>\n",
       "      <th>Color 4</th>\n",
       "      <th>Price</th>\n",
       "      <th>Expensive</th>\n",
       "    </tr>\n",
       "  </thead>\n",
       "  <tbody>\n",
       "    <tr>\n",
       "      <th>0</th>\n",
       "      <td>Dunk Low</td>\n",
       "      <td>True</td>\n",
       "      <td>Women</td>\n",
       "      <td>Shoes</td>\n",
       "      <td>False</td>\n",
       "      <td>False</td>\n",
       "      <td>False</td>\n",
       "      <td>True</td>\n",
       "      <td>2</td>\n",
       "      <td>White</td>\n",
       "      <td>Rose Whisper</td>\n",
       "      <td>NaN</td>\n",
       "      <td>NaN</td>\n",
       "      <td>110.0</td>\n",
       "      <td>False</td>\n",
       "    </tr>\n",
       "    <tr>\n",
       "      <th>1</th>\n",
       "      <td>Air VaporMax 2023 Flyknit</td>\n",
       "      <td>False</td>\n",
       "      <td>Women</td>\n",
       "      <td>Shoes</td>\n",
       "      <td>False</td>\n",
       "      <td>False</td>\n",
       "      <td>False</td>\n",
       "      <td>True</td>\n",
       "      <td>4</td>\n",
       "      <td>Oatmeal</td>\n",
       "      <td>Pink Oxford</td>\n",
       "      <td>Sail</td>\n",
       "      <td>Pearl Pink</td>\n",
       "      <td>210.0</td>\n",
       "      <td>True</td>\n",
       "    </tr>\n",
       "    <tr>\n",
       "      <th>2</th>\n",
       "      <td>Air VaporMax 2023 Flyknit</td>\n",
       "      <td>False</td>\n",
       "      <td>Women</td>\n",
       "      <td>Shoes</td>\n",
       "      <td>False</td>\n",
       "      <td>False</td>\n",
       "      <td>False</td>\n",
       "      <td>True</td>\n",
       "      <td>3</td>\n",
       "      <td>Black</td>\n",
       "      <td>Black</td>\n",
       "      <td>Anthracite</td>\n",
       "      <td>NaN</td>\n",
       "      <td>210.0</td>\n",
       "      <td>True</td>\n",
       "    </tr>\n",
       "    <tr>\n",
       "      <th>3</th>\n",
       "      <td>Air VaporMax 2023 Flyknit</td>\n",
       "      <td>False</td>\n",
       "      <td>Women</td>\n",
       "      <td>Shoes</td>\n",
       "      <td>False</td>\n",
       "      <td>False</td>\n",
       "      <td>False</td>\n",
       "      <td>True</td>\n",
       "      <td>3</td>\n",
       "      <td>Black</td>\n",
       "      <td>Anthracite</td>\n",
       "      <td>Sail</td>\n",
       "      <td>NaN</td>\n",
       "      <td>210.0</td>\n",
       "      <td>True</td>\n",
       "    </tr>\n",
       "    <tr>\n",
       "      <th>4</th>\n",
       "      <td>Air VaporMax 2023 Flyknit</td>\n",
       "      <td>False</td>\n",
       "      <td>Women</td>\n",
       "      <td>Shoes</td>\n",
       "      <td>False</td>\n",
       "      <td>False</td>\n",
       "      <td>False</td>\n",
       "      <td>True</td>\n",
       "      <td>4</td>\n",
       "      <td>Pale Vanilla</td>\n",
       "      <td>Sail</td>\n",
       "      <td>Sesame</td>\n",
       "      <td>Sea Coral</td>\n",
       "      <td>210.0</td>\n",
       "      <td>True</td>\n",
       "    </tr>\n",
       "  </tbody>\n",
       "</table>\n",
       "</div>"
      ],
      "text/plain": [
       "                   Shoe name  isNew Gender category  isBestSeller  \\\n",
       "0                   Dunk Low   True  Women    Shoes         False   \n",
       "1  Air VaporMax 2023 Flyknit  False  Women    Shoes         False   \n",
       "2  Air VaporMax 2023 Flyknit  False  Women    Shoes         False   \n",
       "3  Air VaporMax 2023 Flyknit  False  Women    Shoes         False   \n",
       "4  Air VaporMax 2023 Flyknit  False  Women    Shoes         False   \n",
       "\n",
       "   isMemberExclusive  isSustainable  inStock  numColors       Color 1  \\\n",
       "0              False          False     True          2         White   \n",
       "1              False          False     True          4       Oatmeal   \n",
       "2              False          False     True          3         Black   \n",
       "3              False          False     True          3         Black   \n",
       "4              False          False     True          4  Pale Vanilla   \n",
       "\n",
       "        Color 2     Color 3     Color 4  Price  Expensive  \n",
       "0  Rose Whisper         NaN         NaN  110.0      False  \n",
       "1   Pink Oxford        Sail  Pearl Pink  210.0       True  \n",
       "2         Black  Anthracite         NaN  210.0       True  \n",
       "3    Anthracite        Sail         NaN  210.0       True  \n",
       "4          Sail      Sesame   Sea Coral  210.0       True  "
      ]
     },
     "execution_count": 729,
     "metadata": {},
     "output_type": "execute_result"
    }
   ],
   "source": [
    "# Display the first 5 examples\n",
    "dataset_df.head(5)"
   ]
  },
  {
   "cell_type": "markdown",
   "id": "1e8aff1f",
   "metadata": {
    "id": "0-Euaq6dmnjN",
    "papermill": {
     "duration": 0.019824,
     "end_time": "2023-07-14T04:58:35.002182",
     "exception": false,
     "start_time": "2023-07-14T04:58:34.982358",
     "status": "completed"
    },
    "tags": []
   },
   "source": [
    "These are the feature columns."
   ]
  },
  {
   "cell_type": "markdown",
   "id": "20c4e1ab",
   "metadata": {
    "id": "1-Ewr6XDmnjN",
    "papermill": {
     "duration": 0.020095,
     "end_time": "2023-07-14T04:58:35.048712",
     "exception": false,
     "start_time": "2023-07-14T04:58:35.028617",
     "status": "completed"
    },
    "tags": []
   },
   "source": [
    "# Let us quickly do a basic exploration of the dataset"
   ]
  },
  {
   "cell_type": "code",
   "execution_count": 730,
   "id": "29297143",
   "metadata": {
    "execution": {
     "iopub.execute_input": "2023-07-14T04:58:35.092106Z",
     "iopub.status.busy": "2023-07-14T04:58:35.091553Z",
     "iopub.status.idle": "2023-07-14T04:58:35.141465Z",
     "shell.execute_reply": "2023-07-14T04:58:35.139849Z"
    },
    "id": "XjwG5wjfmnjO",
    "papermill": {
     "duration": 0.075927,
     "end_time": "2023-07-14T04:58:35.145206",
     "exception": false,
     "start_time": "2023-07-14T04:58:35.069279",
     "status": "completed"
    },
    "tags": []
   },
   "outputs": [
    {
     "data": {
      "text/html": [
       "<div>\n",
       "<style scoped>\n",
       "    .dataframe tbody tr th:only-of-type {\n",
       "        vertical-align: middle;\n",
       "    }\n",
       "\n",
       "    .dataframe tbody tr th {\n",
       "        vertical-align: top;\n",
       "    }\n",
       "\n",
       "    .dataframe thead th {\n",
       "        text-align: right;\n",
       "    }\n",
       "</style>\n",
       "<table border=\"1\" class=\"dataframe\">\n",
       "  <thead>\n",
       "    <tr style=\"text-align: right;\">\n",
       "      <th></th>\n",
       "      <th>numColors</th>\n",
       "      <th>Price</th>\n",
       "    </tr>\n",
       "  </thead>\n",
       "  <tbody>\n",
       "    <tr>\n",
       "      <th>count</th>\n",
       "      <td>908.000000</td>\n",
       "      <td>908.000000</td>\n",
       "    </tr>\n",
       "    <tr>\n",
       "      <th>mean</th>\n",
       "      <td>3.550661</td>\n",
       "      <td>123.618877</td>\n",
       "    </tr>\n",
       "    <tr>\n",
       "      <th>std</th>\n",
       "      <td>0.676157</td>\n",
       "      <td>46.753483</td>\n",
       "    </tr>\n",
       "    <tr>\n",
       "      <th>min</th>\n",
       "      <td>1.000000</td>\n",
       "      <td>25.000000</td>\n",
       "    </tr>\n",
       "    <tr>\n",
       "      <th>25%</th>\n",
       "      <td>3.000000</td>\n",
       "      <td>90.000000</td>\n",
       "    </tr>\n",
       "    <tr>\n",
       "      <th>50%</th>\n",
       "      <td>4.000000</td>\n",
       "      <td>125.000000</td>\n",
       "    </tr>\n",
       "    <tr>\n",
       "      <th>75%</th>\n",
       "      <td>4.000000</td>\n",
       "      <td>152.500000</td>\n",
       "    </tr>\n",
       "    <tr>\n",
       "      <th>max</th>\n",
       "      <td>4.000000</td>\n",
       "      <td>305.000000</td>\n",
       "    </tr>\n",
       "  </tbody>\n",
       "</table>\n",
       "</div>"
      ],
      "text/plain": [
       "        numColors       Price\n",
       "count  908.000000  908.000000\n",
       "mean     3.550661  123.618877\n",
       "std      0.676157   46.753483\n",
       "min      1.000000   25.000000\n",
       "25%      3.000000   90.000000\n",
       "50%      4.000000  125.000000\n",
       "75%      4.000000  152.500000\n",
       "max      4.000000  305.000000"
      ]
     },
     "execution_count": 730,
     "metadata": {},
     "output_type": "execute_result"
    }
   ],
   "source": [
    "dataset_df.describe()"
   ]
  },
  {
   "cell_type": "code",
   "execution_count": 731,
   "id": "3c111a8d",
   "metadata": {
    "execution": {
     "iopub.execute_input": "2023-07-14T04:58:35.189191Z",
     "iopub.status.busy": "2023-07-14T04:58:35.188054Z",
     "iopub.status.idle": "2023-07-14T04:58:35.222195Z",
     "shell.execute_reply": "2023-07-14T04:58:35.220251Z"
    },
    "id": "UmWpnVxQmnjO",
    "papermill": {
     "duration": 0.060009,
     "end_time": "2023-07-14T04:58:35.225536",
     "exception": false,
     "start_time": "2023-07-14T04:58:35.165527",
     "status": "completed"
    },
    "tags": []
   },
   "outputs": [
    {
     "name": "stdout",
     "output_type": "stream",
     "text": [
      "<class 'pandas.core.frame.DataFrame'>\n",
      "RangeIndex: 908 entries, 0 to 907\n",
      "Data columns (total 15 columns):\n",
      " #   Column             Non-Null Count  Dtype  \n",
      "---  ------             --------------  -----  \n",
      " 0   Shoe name          908 non-null    object \n",
      " 1   isNew              908 non-null    bool   \n",
      " 2   Gender             908 non-null    object \n",
      " 3   category           908 non-null    object \n",
      " 4   isBestSeller       908 non-null    bool   \n",
      " 5   isMemberExclusive  908 non-null    bool   \n",
      " 6   isSustainable      908 non-null    bool   \n",
      " 7   inStock            908 non-null    bool   \n",
      " 8   numColors          908 non-null    int64  \n",
      " 9   Color 1            908 non-null    object \n",
      " 10  Color 2            901 non-null    object \n",
      " 11  Color 3            827 non-null    object \n",
      " 12  Color 4            588 non-null    object \n",
      " 13  Price              908 non-null    float64\n",
      " 14  Expensive          908 non-null    bool   \n",
      "dtypes: bool(6), float64(1), int64(1), object(7)\n",
      "memory usage: 69.3+ KB\n"
     ]
    }
   ],
   "source": [
    "dataset_df.info()"
   ]
  },
  {
   "cell_type": "markdown",
   "id": "434d06d6",
   "metadata": {
    "id": "PYbIPVaCmnjO",
    "papermill": {
     "duration": 0.019969,
     "end_time": "2023-07-14T04:58:35.265820",
     "exception": false,
     "start_time": "2023-07-14T04:58:35.245851",
     "status": "completed"
    },
    "tags": []
   },
   "source": [
    "# Bar chart for label column: isNew\n",
    "\n"
   ]
  },
  {
   "cell_type": "code",
   "execution_count": 732,
   "id": "5c6597ae",
   "metadata": {
    "execution": {
     "iopub.execute_input": "2023-07-14T04:58:35.309690Z",
     "iopub.status.busy": "2023-07-14T04:58:35.309171Z",
     "iopub.status.idle": "2023-07-14T04:58:35.618528Z",
     "shell.execute_reply": "2023-07-14T04:58:35.617113Z"
    },
    "id": "DcaGweARmnjP",
    "papermill": {
     "duration": 0.335134,
     "end_time": "2023-07-14T04:58:35.621571",
     "exception": false,
     "start_time": "2023-07-14T04:58:35.286437",
     "status": "completed"
    },
    "tags": []
   },
   "outputs": [
    {
     "data": {
      "text/plain": [
       "<Axes: >"
      ]
     },
     "execution_count": 732,
     "metadata": {},
     "output_type": "execute_result"
    },
    {
     "data": {
      "image/png": "[encoded data removed]",
      "text/plain": [
       "<Figure size 640x480 with 1 Axes>"
      ]
     },
     "metadata": {},
     "output_type": "display_data"
    }
   ],
   "source": [
    "plot_df = dataset_df.isNew.value_counts()\n",
    "plot_df.plot(kind=\"bar\")"
   ]
  },
  {
   "cell_type": "markdown",
   "id": "740fcb3d",
   "metadata": {
    "id": "LRO2hJlNmnjP",
    "papermill": {
     "duration": 0.020977,
     "end_time": "2023-07-14T04:58:35.663818",
     "exception": false,
     "start_time": "2023-07-14T04:58:35.642841",
     "status": "completed"
    },
    "tags": []
   },
   "source": [
    "# Numerical data distribution\n",
    "\n",
    "Let us plot all the numerical columns and their value counts:"
   ]
  },
  {
   "cell_type": "markdown",
   "id": "2337ff8f",
   "metadata": {
    "id": "Trlsxv1emnjQ",
    "papermill": {
     "duration": 0.022105,
     "end_time": "2023-07-14T04:58:37.694192",
     "exception": false,
     "start_time": "2023-07-14T04:58:37.672087",
     "status": "completed"
    },
    "tags": []
   },
   "source": [
    "# Prepare the dataset"
   ]
  },
  {
   "cell_type": "markdown",
   "id": "089ccafb",
   "metadata": {
    "id": "c-BLN1jcmnjQ",
    "papermill": {
     "duration": 0.021701,
     "end_time": "2023-07-14T04:58:37.737645",
     "exception": false,
     "start_time": "2023-07-14T04:58:37.715944",
     "status": "completed"
    },
    "tags": []
   },
   "source": [
    "We will drop the `Price` column because it makes things too easy and we want to NOT use the price to determine if a shoe is expensive."
   ]
  },
  {
   "cell_type": "code",
   "execution_count": 733,
   "id": "6d6bfc0e",
   "metadata": {
    "execution": {
     "iopub.execute_input": "2023-07-14T04:58:37.785398Z",
     "iopub.status.busy": "2023-07-14T04:58:37.784561Z",
     "iopub.status.idle": "2023-07-14T04:58:37.811433Z",
     "shell.execute_reply": "2023-07-14T04:58:37.810106Z"
    },
    "id": "nftfBG67mnjR",
    "papermill": {
     "duration": 0.055136,
     "end_time": "2023-07-14T04:58:37.814679",
     "exception": false,
     "start_time": "2023-07-14T04:58:37.759543",
     "status": "completed"
    },
    "tags": []
   },
   "outputs": [
    {
     "data": {
      "text/html": [
       "<div>\n",
       "<style scoped>\n",
       "    .dataframe tbody tr th:only-of-type {\n",
       "        vertical-align: middle;\n",
       "    }\n",
       "\n",
       "    .dataframe tbody tr th {\n",
       "        vertical-align: top;\n",
       "    }\n",
       "\n",
       "    .dataframe thead th {\n",
       "        text-align: right;\n",
       "    }\n",
       "</style>\n",
       "<table border=\"1\" class=\"dataframe\">\n",
       "  <thead>\n",
       "    <tr style=\"text-align: right;\">\n",
       "      <th></th>\n",
       "      <th>Shoe name</th>\n",
       "      <th>isNew</th>\n",
       "      <th>Gender</th>\n",
       "      <th>category</th>\n",
       "      <th>isBestSeller</th>\n",
       "      <th>isMemberExclusive</th>\n",
       "      <th>isSustainable</th>\n",
       "      <th>inStock</th>\n",
       "      <th>numColors</th>\n",
       "      <th>Color 1</th>\n",
       "      <th>Color 2</th>\n",
       "      <th>Color 3</th>\n",
       "      <th>Color 4</th>\n",
       "      <th>Expensive</th>\n",
       "    </tr>\n",
       "  </thead>\n",
       "  <tbody>\n",
       "    <tr>\n",
       "      <th>0</th>\n",
       "      <td>Dunk Low</td>\n",
       "      <td>True</td>\n",
       "      <td>Women</td>\n",
       "      <td>Shoes</td>\n",
       "      <td>False</td>\n",
       "      <td>False</td>\n",
       "      <td>False</td>\n",
       "      <td>True</td>\n",
       "      <td>2</td>\n",
       "      <td>White</td>\n",
       "      <td>Rose Whisper</td>\n",
       "      <td>NaN</td>\n",
       "      <td>NaN</td>\n",
       "      <td>False</td>\n",
       "    </tr>\n",
       "    <tr>\n",
       "      <th>1</th>\n",
       "      <td>Air VaporMax 2023 Flyknit</td>\n",
       "      <td>False</td>\n",
       "      <td>Women</td>\n",
       "      <td>Shoes</td>\n",
       "      <td>False</td>\n",
       "      <td>False</td>\n",
       "      <td>False</td>\n",
       "      <td>True</td>\n",
       "      <td>4</td>\n",
       "      <td>Oatmeal</td>\n",
       "      <td>Pink Oxford</td>\n",
       "      <td>Sail</td>\n",
       "      <td>Pearl Pink</td>\n",
       "      <td>True</td>\n",
       "    </tr>\n",
       "    <tr>\n",
       "      <th>2</th>\n",
       "      <td>Air VaporMax 2023 Flyknit</td>\n",
       "      <td>False</td>\n",
       "      <td>Women</td>\n",
       "      <td>Shoes</td>\n",
       "      <td>False</td>\n",
       "      <td>False</td>\n",
       "      <td>False</td>\n",
       "      <td>True</td>\n",
       "      <td>3</td>\n",
       "      <td>Black</td>\n",
       "      <td>Black</td>\n",
       "      <td>Anthracite</td>\n",
       "      <td>NaN</td>\n",
       "      <td>True</td>\n",
       "    </tr>\n",
       "    <tr>\n",
       "      <th>3</th>\n",
       "      <td>Air VaporMax 2023 Flyknit</td>\n",
       "      <td>False</td>\n",
       "      <td>Women</td>\n",
       "      <td>Shoes</td>\n",
       "      <td>False</td>\n",
       "      <td>False</td>\n",
       "      <td>False</td>\n",
       "      <td>True</td>\n",
       "      <td>3</td>\n",
       "      <td>Black</td>\n",
       "      <td>Anthracite</td>\n",
       "      <td>Sail</td>\n",
       "      <td>NaN</td>\n",
       "      <td>True</td>\n",
       "    </tr>\n",
       "    <tr>\n",
       "      <th>4</th>\n",
       "      <td>Air VaporMax 2023 Flyknit</td>\n",
       "      <td>False</td>\n",
       "      <td>Women</td>\n",
       "      <td>Shoes</td>\n",
       "      <td>False</td>\n",
       "      <td>False</td>\n",
       "      <td>False</td>\n",
       "      <td>True</td>\n",
       "      <td>4</td>\n",
       "      <td>Pale Vanilla</td>\n",
       "      <td>Sail</td>\n",
       "      <td>Sesame</td>\n",
       "      <td>Sea Coral</td>\n",
       "      <td>True</td>\n",
       "    </tr>\n",
       "  </tbody>\n",
       "</table>\n",
       "</div>"
      ],
      "text/plain": [
       "                   Shoe name  isNew Gender category  isBestSeller  \\\n",
       "0                   Dunk Low   True  Women    Shoes         False   \n",
       "1  Air VaporMax 2023 Flyknit  False  Women    Shoes         False   \n",
       "2  Air VaporMax 2023 Flyknit  False  Women    Shoes         False   \n",
       "3  Air VaporMax 2023 Flyknit  False  Women    Shoes         False   \n",
       "4  Air VaporMax 2023 Flyknit  False  Women    Shoes         False   \n",
       "\n",
       "   isMemberExclusive  isSustainable  inStock  numColors       Color 1  \\\n",
       "0              False          False     True          2         White   \n",
       "1              False          False     True          4       Oatmeal   \n",
       "2              False          False     True          3         Black   \n",
       "3              False          False     True          3         Black   \n",
       "4              False          False     True          4  Pale Vanilla   \n",
       "\n",
       "        Color 2     Color 3     Color 4  Expensive  \n",
       "0  Rose Whisper         NaN         NaN      False  \n",
       "1   Pink Oxford        Sail  Pearl Pink       True  \n",
       "2         Black  Anthracite         NaN       True  \n",
       "3    Anthracite        Sail         NaN       True  \n",
       "4          Sail      Sesame   Sea Coral       True  "
      ]
     },
     "execution_count": 733,
     "metadata": {},
     "output_type": "execute_result"
    }
   ],
   "source": [
    "dataset_df = dataset_df.drop('Price', axis=1)\n",
    "dataset_df.head(5)"
   ]
  },
  {
   "cell_type": "markdown",
   "id": "f1a89883",
   "metadata": {
    "id": "pXhbIKCemnjR",
    "papermill": {
     "duration": 0.021735,
     "end_time": "2023-07-14T04:58:37.858473",
     "exception": false,
     "start_time": "2023-07-14T04:58:37.836738",
     "status": "completed"
    },
    "tags": []
   },
   "source": [
    "We will check for the missing values using the following code:"
   ]
  },
  {
   "cell_type": "code",
   "execution_count": 734,
   "id": "2cd856b6",
   "metadata": {
    "execution": {
     "iopub.execute_input": "2023-07-14T04:58:37.905075Z",
     "iopub.status.busy": "2023-07-14T04:58:37.904610Z",
     "iopub.status.idle": "2023-07-14T04:58:37.923078Z",
     "shell.execute_reply": "2023-07-14T04:58:37.921334Z"
    },
    "id": "3_VMZ9a1mnjR",
    "papermill": {
     "duration": 0.046068,
     "end_time": "2023-07-14T04:58:37.926726",
     "exception": false,
     "start_time": "2023-07-14T04:58:37.880658",
     "status": "completed"
    },
    "tags": []
   },
   "outputs": [
    {
     "data": {
      "text/plain": [
       "Color 4              320\n",
       "Color 3               81\n",
       "Color 2                7\n",
       "Shoe name              0\n",
       "isNew                  0\n",
       "Gender                 0\n",
       "category               0\n",
       "isBestSeller           0\n",
       "isMemberExclusive      0\n",
       "isSustainable          0\n",
       "inStock                0\n",
       "numColors              0\n",
       "Color 1                0\n",
       "Expensive              0\n",
       "dtype: int64"
      ]
     },
     "execution_count": 734,
     "metadata": {},
     "output_type": "execute_result"
    }
   ],
   "source": [
    "dataset_df.isnull().sum().sort_values(ascending=False)"
   ]
  },
  {
   "cell_type": "markdown",
   "id": "3921ad02",
   "metadata": {
    "id": "vlWOQl4fmnjS",
    "papermill": {
     "duration": 0.021832,
     "end_time": "2023-07-14T04:58:37.971102",
     "exception": false,
     "start_time": "2023-07-14T04:58:37.949270",
     "status": "completed"
    },
    "tags": []
   },
   "source": [
    "This dataset contains a mix of numeric, categorical and missing features. TF-DF supports all these feature types natively, and no preprocessing is required.\n",
    "\n",
    "But this datatset also has boolean fields with missing values. TF-DF doesn't support boolean fields yet. So we need to convert those fields into int. To account for the missing values in the boolean fields, we will replace them with zero.\n",
    "\n",
    "In this notebook, we will replace null value entries with zero for numerical columns as well and only let TF-DF handle the missing values in categorical columns.\n",
    "\n",
    "Note: You can choose to let TF-DF handle missing values in numerical columns if need be."
   ]
  },
  {
   "cell_type": "code",
   "execution_count": 735,
   "id": "eaaa26e0",
   "metadata": {
    "execution": {
     "iopub.execute_input": "2023-07-14T04:58:38.021485Z",
     "iopub.status.busy": "2023-07-14T04:58:38.021028Z",
     "iopub.status.idle": "2023-07-14T04:58:38.048264Z",
     "shell.execute_reply": "2023-07-14T04:58:38.046697Z"
    },
    "id": "ASQ5Bh2JmnjS",
    "papermill": {
     "duration": 0.057701,
     "end_time": "2023-07-14T04:58:38.051397",
     "exception": false,
     "start_time": "2023-07-14T04:58:37.993696",
     "status": "completed"
    },
    "tags": []
   },
   "outputs": [
    {
     "data": {
      "text/plain": [
       "Color 4              320\n",
       "Color 3               81\n",
       "Color 2                7\n",
       "Shoe name              0\n",
       "isNew                  0\n",
       "Gender                 0\n",
       "category               0\n",
       "isBestSeller           0\n",
       "isMemberExclusive      0\n",
       "isSustainable          0\n",
       "inStock                0\n",
       "numColors              0\n",
       "Color 1                0\n",
       "Expensive              0\n",
       "dtype: int64"
      ]
     },
     "execution_count": 735,
     "metadata": {},
     "output_type": "execute_result"
    }
   ],
   "source": [
    "dataset_df.isnull().sum().sort_values(ascending=False)"
   ]
  },
  {
   "cell_type": "markdown",
   "id": "c5b9318e",
   "metadata": {
    "id": "tFbE6D0BmnjT",
    "papermill": {
     "duration": 0.022155,
     "end_time": "2023-07-14T04:58:38.095984",
     "exception": false,
     "start_time": "2023-07-14T04:58:38.073829",
     "status": "completed"
    },
    "tags": []
   },
   "source": [
    "Since, TF-DF cannot handle boolean columns, we will have to adjust the labels in column `Transported` to convert them into the integer format that TF-DF expects."
   ]
  },
  {
   "cell_type": "code",
   "execution_count": 736,
   "id": "4a56f1b3",
   "metadata": {
    "execution": {
     "iopub.execute_input": "2023-07-14T04:58:38.143743Z",
     "iopub.status.busy": "2023-07-14T04:58:38.143305Z",
     "iopub.status.idle": "2023-07-14T04:58:38.149722Z",
     "shell.execute_reply": "2023-07-14T04:58:38.148229Z"
    },
    "id": "-T6a_RTxmnjT",
    "papermill": {
     "duration": 0.034047,
     "end_time": "2023-07-14T04:58:38.152519",
     "exception": false,
     "start_time": "2023-07-14T04:58:38.118472",
     "status": "completed"
    },
    "tags": []
   },
   "outputs": [],
   "source": [
    "label = \"Expensive\""
   ]
  },
  {
   "cell_type": "markdown",
   "id": "36fa760c",
   "metadata": {
    "id": "F6-GATuzmnjU",
    "papermill": {
     "duration": 0.022417,
     "end_time": "2023-07-14T04:58:38.197183",
     "exception": false,
     "start_time": "2023-07-14T04:58:38.174766",
     "status": "completed"
    },
    "tags": []
   },
   "source": [
    "We will also convert the boolean fields to int."
   ]
  },
  {
   "cell_type": "code",
   "execution_count": 737,
   "id": "ed68cd2a",
   "metadata": {
    "execution": {
     "iopub.execute_input": "2023-07-14T04:58:38.244147Z",
     "iopub.status.busy": "2023-07-14T04:58:38.243690Z",
     "iopub.status.idle": "2023-07-14T04:58:38.253936Z",
     "shell.execute_reply": "2023-07-14T04:58:38.252477Z"
    },
    "id": "Wq6PbMnnmnjU",
    "papermill": {
     "duration": 0.037449,
     "end_time": "2023-07-14T04:58:38.256933",
     "exception": false,
     "start_time": "2023-07-14T04:58:38.219484",
     "status": "completed"
    },
    "tags": []
   },
   "outputs": [],
   "source": [
    "dataset_df['isNew'] = dataset_df['isNew'].astype(int)\n",
    "dataset_df['isBestSeller'] = dataset_df['isBestSeller'].astype(int)\n",
    "dataset_df['isMemberExclusive'] = dataset_df['isMemberExclusive'].astype(int)\n",
    "dataset_df['inStock'] = dataset_df['inStock'].astype(int)\n",
    "dataset_df['isSustainable'] = dataset_df['isSustainable'].astype(int)\n",
    "dataset_df['Expensive'] = dataset_df['Expensive'].astype(int)"
   ]
  },
  {
   "cell_type": "markdown",
   "id": "66d2eb1d",
   "metadata": {
    "id": "Y7byxj5FmnjW",
    "papermill": {
     "duration": 0.021971,
     "end_time": "2023-07-14T04:58:38.530946",
     "exception": false,
     "start_time": "2023-07-14T04:58:38.508975",
     "status": "completed"
    },
    "tags": []
   },
   "source": [
    "Let us display the first 5 examples from the prepared dataset."
   ]
  },
  {
   "cell_type": "code",
   "execution_count": 738,
   "id": "43f30cc6",
   "metadata": {
    "execution": {
     "iopub.execute_input": "2023-07-14T04:58:38.641429Z",
     "iopub.status.busy": "2023-07-14T04:58:38.640965Z",
     "iopub.status.idle": "2023-07-14T04:58:38.664190Z",
     "shell.execute_reply": "2023-07-14T04:58:38.662854Z"
    },
    "id": "g0U1OKAYmnjW",
    "papermill": {
     "duration": 0.050748,
     "end_time": "2023-07-14T04:58:38.667358",
     "exception": false,
     "start_time": "2023-07-14T04:58:38.616610",
     "status": "completed"
    },
    "tags": []
   },
   "outputs": [
    {
     "data": {
      "text/html": [
       "<div>\n",
       "<style scoped>\n",
       "    .dataframe tbody tr th:only-of-type {\n",
       "        vertical-align: middle;\n",
       "    }\n",
       "\n",
       "    .dataframe tbody tr th {\n",
       "        vertical-align: top;\n",
       "    }\n",
       "\n",
       "    .dataframe thead th {\n",
       "        text-align: right;\n",
       "    }\n",
       "</style>\n",
       "<table border=\"1\" class=\"dataframe\">\n",
       "  <thead>\n",
       "    <tr style=\"text-align: right;\">\n",
       "      <th></th>\n",
       "      <th>Shoe name</th>\n",
       "      <th>isNew</th>\n",
       "      <th>Gender</th>\n",
       "      <th>category</th>\n",
       "      <th>isBestSeller</th>\n",
       "      <th>isMemberExclusive</th>\n",
       "      <th>isSustainable</th>\n",
       "      <th>inStock</th>\n",
       "      <th>numColors</th>\n",
       "      <th>Color 1</th>\n",
       "      <th>Color 2</th>\n",
       "      <th>Color 3</th>\n",
       "      <th>Color 4</th>\n",
       "      <th>Expensive</th>\n",
       "    </tr>\n",
       "  </thead>\n",
       "  <tbody>\n",
       "    <tr>\n",
       "      <th>0</th>\n",
       "      <td>Dunk Low</td>\n",
       "      <td>1</td>\n",
       "      <td>Women</td>\n",
       "      <td>Shoes</td>\n",
       "      <td>0</td>\n",
       "      <td>0</td>\n",
       "      <td>0</td>\n",
       "      <td>1</td>\n",
       "      <td>2</td>\n",
       "      <td>White</td>\n",
       "      <td>Rose Whisper</td>\n",
       "      <td>NaN</td>\n",
       "      <td>NaN</td>\n",
       "      <td>0</td>\n",
       "    </tr>\n",
       "    <tr>\n",
       "      <th>1</th>\n",
       "      <td>Air VaporMax 2023 Flyknit</td>\n",
       "      <td>0</td>\n",
       "      <td>Women</td>\n",
       "      <td>Shoes</td>\n",
       "      <td>0</td>\n",
       "      <td>0</td>\n",
       "      <td>0</td>\n",
       "      <td>1</td>\n",
       "      <td>4</td>\n",
       "      <td>Oatmeal</td>\n",
       "      <td>Pink Oxford</td>\n",
       "      <td>Sail</td>\n",
       "      <td>Pearl Pink</td>\n",
       "      <td>1</td>\n",
       "    </tr>\n",
       "    <tr>\n",
       "      <th>2</th>\n",
       "      <td>Air VaporMax 2023 Flyknit</td>\n",
       "      <td>0</td>\n",
       "      <td>Women</td>\n",
       "      <td>Shoes</td>\n",
       "      <td>0</td>\n",
       "      <td>0</td>\n",
       "      <td>0</td>\n",
       "      <td>1</td>\n",
       "      <td>3</td>\n",
       "      <td>Black</td>\n",
       "      <td>Black</td>\n",
       "      <td>Anthracite</td>\n",
       "      <td>NaN</td>\n",
       "      <td>1</td>\n",
       "    </tr>\n",
       "    <tr>\n",
       "      <th>3</th>\n",
       "      <td>Air VaporMax 2023 Flyknit</td>\n",
       "      <td>0</td>\n",
       "      <td>Women</td>\n",
       "      <td>Shoes</td>\n",
       "      <td>0</td>\n",
       "      <td>0</td>\n",
       "      <td>0</td>\n",
       "      <td>1</td>\n",
       "      <td>3</td>\n",
       "      <td>Black</td>\n",
       "      <td>Anthracite</td>\n",
       "      <td>Sail</td>\n",
       "      <td>NaN</td>\n",
       "      <td>1</td>\n",
       "    </tr>\n",
       "    <tr>\n",
       "      <th>4</th>\n",
       "      <td>Air VaporMax 2023 Flyknit</td>\n",
       "      <td>0</td>\n",
       "      <td>Women</td>\n",
       "      <td>Shoes</td>\n",
       "      <td>0</td>\n",
       "      <td>0</td>\n",
       "      <td>0</td>\n",
       "      <td>1</td>\n",
       "      <td>4</td>\n",
       "      <td>Pale Vanilla</td>\n",
       "      <td>Sail</td>\n",
       "      <td>Sesame</td>\n",
       "      <td>Sea Coral</td>\n",
       "      <td>1</td>\n",
       "    </tr>\n",
       "  </tbody>\n",
       "</table>\n",
       "</div>"
      ],
      "text/plain": [
       "                   Shoe name  isNew Gender category  isBestSeller  \\\n",
       "0                   Dunk Low      1  Women    Shoes             0   \n",
       "1  Air VaporMax 2023 Flyknit      0  Women    Shoes             0   \n",
       "2  Air VaporMax 2023 Flyknit      0  Women    Shoes             0   \n",
       "3  Air VaporMax 2023 Flyknit      0  Women    Shoes             0   \n",
       "4  Air VaporMax 2023 Flyknit      0  Women    Shoes             0   \n",
       "\n",
       "   isMemberExclusive  isSustainable  inStock  numColors       Color 1  \\\n",
       "0                  0              0        1          2         White   \n",
       "1                  0              0        1          4       Oatmeal   \n",
       "2                  0              0        1          3         Black   \n",
       "3                  0              0        1          3         Black   \n",
       "4                  0              0        1          4  Pale Vanilla   \n",
       "\n",
       "        Color 2     Color 3     Color 4  Expensive  \n",
       "0  Rose Whisper         NaN         NaN          0  \n",
       "1   Pink Oxford        Sail  Pearl Pink          1  \n",
       "2         Black  Anthracite         NaN          1  \n",
       "3    Anthracite        Sail         NaN          1  \n",
       "4          Sail      Sesame   Sea Coral          1  "
      ]
     },
     "execution_count": 738,
     "metadata": {},
     "output_type": "execute_result"
    }
   ],
   "source": [
    "dataset_df.head(5)"
   ]
  },
  {
   "cell_type": "markdown",
   "id": "a666141a",
   "metadata": {
    "id": "l6EmJsSfmnjW",
    "papermill": {
     "duration": 0.023001,
     "end_time": "2023-07-14T04:58:38.714107",
     "exception": false,
     "start_time": "2023-07-14T04:58:38.691106",
     "status": "completed"
    },
    "tags": []
   },
   "source": [
    "Now let us split the dataset into training and testing datasets:"
   ]
  },
  {
   "cell_type": "code",
   "execution_count": 739,
   "id": "64da680d",
   "metadata": {
    "execution": {
     "iopub.execute_input": "2023-07-14T04:58:38.762632Z",
     "iopub.status.busy": "2023-07-14T04:58:38.761734Z",
     "iopub.status.idle": "2023-07-14T04:58:38.773708Z",
     "shell.execute_reply": "2023-07-14T04:58:38.772056Z"
    },
    "id": "_drMgwAAmnjX",
    "papermill": {
     "duration": 0.040502,
     "end_time": "2023-07-14T04:58:38.777285",
     "exception": false,
     "start_time": "2023-07-14T04:58:38.736783",
     "status": "completed"
    },
    "tags": []
   },
   "outputs": [
    {
     "name": "stdout",
     "output_type": "stream",
     "text": [
      "716 examples in training, 192 examples in testing.\n"
     ]
    }
   ],
   "source": [
    "def split_dataset(dataset, test_ratio=0.20):\n",
    "  test_indices = np.random.rand(len(dataset)) < test_ratio\n",
    "  return dataset[~test_indices], dataset[test_indices]\n",
    "\n",
    "train_ds_pd, valid_ds_pd = split_dataset(dataset_df)\n",
    "print(\"{} examples in training, {} examples in testing.\".format(\n",
    "    len(train_ds_pd), len(valid_ds_pd)))"
   ]
  },
  {
   "cell_type": "markdown",
   "id": "b6561540",
   "metadata": {
    "id": "_gg4nfB1mnjX",
    "papermill": {
     "duration": 0.022494,
     "end_time": "2023-07-14T04:58:38.822700",
     "exception": false,
     "start_time": "2023-07-14T04:58:38.800206",
     "status": "completed"
    },
    "tags": []
   },
   "source": [
    "There's one more step required before we can train the model. We need to convert the datatset from Pandas format (`pd.DataFrame`) into TensorFlow Datasets format (`tf.data.Dataset`).\n",
    "\n",
    "[TensorFlow Datasets](https://www.tensorflow.org/datasets/overview) is a high performance data loading library which is helpful when training neural networks with accelerators like GPUs and TPUs."
   ]
  },
  {
   "cell_type": "code",
   "execution_count": 740,
   "id": "579557c5",
   "metadata": {
    "execution": {
     "iopub.execute_input": "2023-07-14T04:58:38.870618Z",
     "iopub.status.busy": "2023-07-14T04:58:38.870170Z",
     "iopub.status.idle": "2023-07-14T04:58:39.051053Z",
     "shell.execute_reply": "2023-07-14T04:58:39.049592Z"
    },
    "id": "LZADOplXmnjX",
    "papermill": {
     "duration": 0.20875,
     "end_time": "2023-07-14T04:58:39.054461",
     "exception": false,
     "start_time": "2023-07-14T04:58:38.845711",
     "status": "completed"
    },
    "tags": []
   },
   "outputs": [
    {
     "name": "stdout",
     "output_type": "stream",
     "text": [
      "Warning: Some of the feature names have been changed automatically to be compatible with SavedModels because fix_feature_names=True.\n"
     ]
    },
    {
     "name": "stderr",
     "output_type": "stream",
     "text": [
      "WARNING:absl:Some of the feature names have been changed automatically to be compatible with SavedModels because fix_feature_names=True.\n"
     ]
    },
    {
     "name": "stdout",
     "output_type": "stream",
     "text": [
      "Warning: Some of the feature names have been changed automatically to be compatible with SavedModels because fix_feature_names=True.\n"
     ]
    },
    {
     "name": "stderr",
     "output_type": "stream",
     "text": [
      "WARNING:absl:Some of the feature names have been changed automatically to be compatible with SavedModels because fix_feature_names=True.\n"
     ]
    }
   ],
   "source": [
    "train_ds = tfdf.keras.pd_dataframe_to_tf_dataset(train_ds_pd, label=label)\n",
    "valid_ds = tfdf.keras.pd_dataframe_to_tf_dataset(valid_ds_pd, label=label)"
   ]
  },
  {
   "cell_type": "markdown",
   "id": "d66662c6",
   "metadata": {
    "id": "0-xUiOTwmnjY",
    "papermill": {
     "duration": 0.023274,
     "end_time": "2023-07-14T04:58:39.101099",
     "exception": false,
     "start_time": "2023-07-14T04:58:39.077825",
     "status": "completed"
    },
    "tags": []
   },
   "source": [
    "# Select a Model\n",
    "\n",
    "There are several tree-based models for you to choose from.\n",
    "\n",
    "* RandomForestModel\n",
    "* GradientBoostedTreesModel\n",
    "* CartModel\n",
    "* DistributedGradientBoostedTreesModel\n",
    "\n",
    "To start, we'll work with a Random Forest. This is the most well-known of the Decision Forest training algorithms.\n",
    "\n",
    "A Random Forest is a collection of decision trees, each trained independently on a random subset of the training dataset (sampled with replacement). The algorithm is unique in that it is robust to overfitting, and easy to use.\n",
    "\n",
    "We can list the all the available models in TensorFlow Decision Forests using the following code:"
   ]
  },
  {
   "cell_type": "code",
   "execution_count": 741,
   "id": "72c780f9",
   "metadata": {
    "execution": {
     "iopub.execute_input": "2023-07-14T04:58:39.149237Z",
     "iopub.status.busy": "2023-07-14T04:58:39.148780Z",
     "iopub.status.idle": "2023-07-14T04:58:39.156259Z",
     "shell.execute_reply": "2023-07-14T04:58:39.155111Z"
    },
    "id": "PdQw1cWbmnjY",
    "papermill": {
     "duration": 0.034766,
     "end_time": "2023-07-14T04:58:39.158750",
     "exception": false,
     "start_time": "2023-07-14T04:58:39.123984",
     "status": "completed"
    },
    "tags": []
   },
   "outputs": [
    {
     "data": {
      "text/plain": [
       "[tensorflow_decision_forests.keras.RandomForestModel,\n",
       " tensorflow_decision_forests.keras.GradientBoostedTreesModel,\n",
       " tensorflow_decision_forests.keras.CartModel,\n",
       " tensorflow_decision_forests.keras.DistributedGradientBoostedTreesModel]"
      ]
     },
     "execution_count": 741,
     "metadata": {},
     "output_type": "execute_result"
    }
   ],
   "source": [
    "tfdf.keras.get_all_models()"
   ]
  },
  {
   "cell_type": "markdown",
   "id": "9beaa44e",
   "metadata": {
    "id": "sy81fpfxmnjY",
    "papermill": {
     "duration": 0.023149,
     "end_time": "2023-07-14T04:58:39.205396",
     "exception": false,
     "start_time": "2023-07-14T04:58:39.182247",
     "status": "completed"
    },
    "tags": []
   },
   "source": [
    "# Configure the model\n",
    "\n",
    "TensorFlow Decision Forests provides good defaults for you (e.g. the top ranking hyperparameters on our benchmarks, slightly modified to run in reasonable time). If you would like to configure the learning algorithm, you will find many options you can explore to get the highest possible accuracy.\n",
    "\n",
    "You can select a template and/or set parameters as follows:\n",
    "\n",
    "```model = tfdf.keras.RandomForestModel(hyperparameter_template=\"benchmark_rank1\")```\n",
    "\n",
    "Read more [here](https://www.tensorflow.org/decision_forests/api_docs/python/tfdf/keras/RandomForestModel)."
   ]
  },
  {
   "cell_type": "code",
   "execution_count": 742,
   "id": "68992bd7",
   "metadata": {
    "execution": {
     "iopub.execute_input": "2023-07-14T04:58:39.253930Z",
     "iopub.status.busy": "2023-07-14T04:58:39.253064Z",
     "iopub.status.idle": "2023-07-14T04:58:39.259073Z",
     "shell.execute_reply": "2023-07-14T04:58:39.257569Z"
    },
    "papermill": {
     "duration": 0.034103,
     "end_time": "2023-07-14T04:58:39.262539",
     "exception": false,
     "start_time": "2023-07-14T04:58:39.228436",
     "status": "completed"
    },
    "tags": []
   },
   "outputs": [],
   "source": [
    "tuner = tfdf.tuner.RandomSearch(num_trials=20)"
   ]
  },
  {
   "cell_type": "code",
   "execution_count": 743,
   "id": "6023b4b1",
   "metadata": {
    "execution": {
     "iopub.execute_input": "2023-07-14T04:58:39.311884Z",
     "iopub.status.busy": "2023-07-14T04:58:39.310718Z",
     "iopub.status.idle": "2023-07-14T04:58:39.325723Z",
     "shell.execute_reply": "2023-07-14T04:58:39.324316Z"
    },
    "papermill": {
     "duration": 0.042777,
     "end_time": "2023-07-14T04:58:39.328663",
     "exception": false,
     "start_time": "2023-07-14T04:58:39.285886",
     "status": "completed"
    },
    "tags": []
   },
   "outputs": [],
   "source": [
    "# tuner.choice(\"min_examples\", [2, 5, 7, 10])\n",
    "# tuner.choice(\"categorical_algorithm\", [\"CART\", \"RANDOM\"])\n",
    "\n",
    "# # Some hyper-parameters are only valid for specific values of other\n",
    "# # hyper-parameters. For example, the \"max_depth\" parameter is mostly useful when\n",
    "# # \"growing_strategy=LOCAL\" while \"max_num_nodes\" is better suited when\n",
    "# # \"growing_strategy=BEST_FIRST_GLOBAL\".\n",
    "\n",
    "# local_search_space = tuner.choice(\"growing_strategy\", [\"LOCAL\"])\n",
    "# local_search_space.choice(\"max_depth\", [3, 4, 5, 6, 8])\n",
    "\n",
    "# # merge=True indicates that the parameter (here \"growing_strategy\") is already\n",
    "# # defined, and that new values are added to it.\n",
    "# global_search_space = tuner.choice(\"growing_strategy\", [\"BEST_FIRST_GLOBAL\"], merge=True)\n",
    "# global_search_space.choice(\"max_num_nodes\", [6, 12, 32, 64])\n",
    "\n",
    "# tuner.choice(\"use_hessian_gain\", [True, False])\n",
    "# tuner.choice(\"shrinkage\", [0.02, 0.05, 0.10, 0.15])\n",
    "# tuner.choice(\"num_candidate_attributes_ratio\", [0.2, 0.5, 0.9, 1.0])\n"
   ]
  },
  {
   "cell_type": "markdown",
   "id": "1ff15e0a",
   "metadata": {
    "id": "AfJMCA6lmnjZ",
    "papermill": {
     "duration": 0.023384,
     "end_time": "2023-07-14T04:58:39.375179",
     "exception": false,
     "start_time": "2023-07-14T04:58:39.351795",
     "status": "completed"
    },
    "tags": []
   },
   "source": [
    "# Create a Forest"
   ]
  },
  {
   "cell_type": "code",
   "execution_count": 744,
   "id": "371d6816",
   "metadata": {
    "execution": {
     "iopub.execute_input": "2023-07-14T04:58:39.424607Z",
     "iopub.status.busy": "2023-07-14T04:58:39.423779Z",
     "iopub.status.idle": "2023-07-14T04:58:39.490066Z",
     "shell.execute_reply": "2023-07-14T04:58:39.488657Z"
    },
    "id": "j7-gFVDNmnjZ",
    "papermill": {
     "duration": 0.095269,
     "end_time": "2023-07-14T04:58:39.493645",
     "exception": false,
     "start_time": "2023-07-14T04:58:39.398376",
     "status": "completed"
    },
    "tags": []
   },
   "outputs": [
    {
     "name": "stdout",
     "output_type": "stream",
     "text": [
      "Resolve hyper-parameter template \"benchmark_rank1\" to \"benchmark_rank1@v1\" -> {'winner_take_all': True, 'categorical_algorithm': 'RANDOM', 'split_axis': 'SPARSE_OBLIQUE', 'sparse_oblique_normalization': 'MIN_MAX', 'sparse_oblique_num_projections_exponent': 1.0}.\n",
      "Use /var/folders/s9/tscwn31s5rv857w3d76s47c40000gn/T/tmpvyjb0olh as temporary training directory\n"
     ]
    }
   ],
   "source": [
    "# model = tfdf.keras.RandomForestModel(\n",
    "model = tfdf.keras.RandomForestModel(\n",
    "    num_trees=30,\n",
    "    hyperparameter_template=\"benchmark_rank1\",\n",
    "    # growing_strategy=\"BEST_FIRST_GLOBAL\",\n",
    "    # max_depth=8,\n",
    "    # split_axis=\"SPARSE_OBLIQUE\",\n",
    "    # categorical_algorithm=\"RANDOM\",\n",
    "    # winner_take_all=True,\n",
    "    tuner=tuner\n",
    ")\n",
    "\n",
    "model.compile(metrics=[\n",
    "    \"accuracy\",\n",
    "#     \"mae\",\"mse\"\n",
    "]) # Optional, you can use this to include a list of eval metrics"
   ]
  },
  {
   "cell_type": "markdown",
   "id": "005b47b8",
   "metadata": {
    "id": "wEQXtv4MmnjZ",
    "papermill": {
     "duration": 0.023306,
     "end_time": "2023-07-14T04:58:39.540287",
     "exception": false,
     "start_time": "2023-07-14T04:58:39.516981",
     "status": "completed"
    },
    "tags": []
   },
   "source": [
    "# Train the model\n",
    "\n",
    "We will train the model using a one-liner.\n",
    "\n",
    "Note: you may see a warning about Autograph. You can safely ignore this, it will be fixed in the next release."
   ]
  },
  {
   "cell_type": "code",
   "execution_count": 745,
   "id": "27d84b33",
   "metadata": {
    "execution": {
     "iopub.execute_input": "2023-07-14T04:58:39.590241Z",
     "iopub.status.busy": "2023-07-14T04:58:39.588885Z",
     "iopub.status.idle": "2023-07-14T05:00:54.156074Z",
     "shell.execute_reply": "2023-07-14T05:00:54.154671Z"
    },
    "id": "QcL5KRyLmnja",
    "papermill": {
     "duration": 134.59489,
     "end_time": "2023-07-14T05:00:54.158948",
     "exception": false,
     "start_time": "2023-07-14T04:58:39.564058",
     "status": "completed"
    },
    "tags": []
   },
   "outputs": [
    {
     "name": "stdout",
     "output_type": "stream",
     "text": [
      "Reading training dataset...\n",
      "Training dataset read in 0:00:00.146769. Found 716 examples.\n",
      "Training model...\n"
     ]
    },
    {
     "name": "stderr",
     "output_type": "stream",
     "text": [
      "2023-07-20 19:59:58.871239: I tensorflow/core/grappler/optimizers/custom_graph_optimizer_registry.cc:114] Plugin optimizer for device_type GPU is enabled.\n"
     ]
    },
    {
     "name": "stdout",
     "output_type": "stream",
     "text": [
      "Model trained in 0:00:00.184558\n",
      "Compiling model...\n",
      "Model compiled.\n"
     ]
    },
    {
     "name": "stderr",
     "output_type": "stream",
     "text": [
      "[INFO 23-07-20 19:59:59.1247 EDT kernel.cc:1243] Loading model from path /var/folders/s9/tscwn31s5rv857w3d76s47c40000gn/T/tmpvyjb0olh/model/ with prefix 16c1e503b3414381\n",
      "[INFO 23-07-20 19:59:59.1290 EDT decision_forest.cc:660] Model loaded with 30 root(s), 2974 node(s), and 13 input feature(s).\n",
      "[INFO 23-07-20 19:59:59.1290 EDT abstract_model.cc:1312] Engine \"RandomForestGeneric\" built\n",
      "[INFO 23-07-20 19:59:59.1290 EDT kernel.cc:1075] Use fast generic engine\n",
      "2023-07-20 19:59:59.187102: I tensorflow/core/grappler/optimizers/custom_graph_optimizer_registry.cc:114] Plugin optimizer for device_type GPU is enabled.\n",
      "2023-07-20 19:59:59.223765: I tensorflow/core/grappler/optimizers/custom_graph_optimizer_registry.cc:114] Plugin optimizer for device_type GPU is enabled.\n"
     ]
    },
    {
     "data": {
      "text/plain": [
       "<keras.src.callbacks.History at 0x2f821ec80>"
      ]
     },
     "execution_count": 745,
     "metadata": {},
     "output_type": "execute_result"
    }
   ],
   "source": [
    "model.fit(x=train_ds, verbose=1)"
   ]
  },
  {
   "cell_type": "markdown",
   "id": "ded6138f",
   "metadata": {
    "id": "HQaPDLBjmnja",
    "papermill": {
     "duration": 0.025791,
     "end_time": "2023-07-14T05:00:54.211114",
     "exception": false,
     "start_time": "2023-07-14T05:00:54.185323",
     "status": "completed"
    },
    "tags": []
   },
   "source": [
    "# Visualize the model\n",
    "One benefit of tree-based models is that we can easily visualize them. The default number of trees used in the Random Forests is 300. We can select a tree to display below."
   ]
  },
  {
   "cell_type": "code",
   "execution_count": 746,
   "id": "25cfb3f6",
   "metadata": {
    "execution": {
     "iopub.execute_input": "2023-07-14T05:00:54.265165Z",
     "iopub.status.busy": "2023-07-14T05:00:54.264699Z",
     "iopub.status.idle": "2023-07-14T05:00:54.760286Z",
     "shell.execute_reply": "2023-07-14T05:00:54.758811Z"
    },
    "id": "hSao4Qstmnja",
    "papermill": {
     "duration": 0.526587,
     "end_time": "2023-07-14T05:00:54.763679",
     "exception": false,
     "start_time": "2023-07-14T05:00:54.237092",
     "status": "completed"
    },
    "tags": []
   },
   "outputs": [
    {
     "data": {
      "text/html": [
       "\n",
       "<script src=\"https://d3js.org/d3.v6.min.js\"></script>\n",
       "<div id=\"tree_plot_819e0fd0eec545538f7a9186a865cf30\"></div>\n",
       "<script>\n",
       "/*\n",
       " * Copyright 2021 Google LLC.\n",
       " * Licensed under the Apache License, Version 2.0 (the \"License\");\n",
       " * you may not use this file except in compliance with the License.\n",
       " * You may obtain a copy of the License at\n",
       " *\n",
       " *     https://www.apache.org/licenses/LICENSE-2.0\n",
       " *\n",
       " * Unless required by applicable law or agreed to in writing, software\n",
       " * distributed under the License is distributed on an \"AS IS\" BASIS,\n",
       " * WITHOUT WARRANTIES OR CONDITIONS OF ANY KIND, either express or implied.\n",
       " * See the License for the specific language governing permissions and\n",
       " * limitations under the License.\n",
       " */\n",
       "\n",
       "/**\n",
       " *  Plotting of decision trees generated by TF-DF.\n",
       " *\n",
       " *  A tree is a recursive structure of node objects.\n",
       " *  A node contains one or more of the following components:\n",
       " *\n",
       " *    - A value: Representing the output of the node. If the node is not a leaf,\n",
       " *      the value is only present for analysis i.e. it is not used for\n",
       " *      predictions.\n",
       " *\n",
       " *    - A condition : For non-leaf nodes, the condition (also known as split)\n",
       " *      defines a binary test to branch to the positive or negative child.\n",
       " *\n",
       " *    - An explanation: Generally a plot showing the relation between the label\n",
       " *      and the condition to give insights about the effect of the condition.\n",
       " *\n",
       " *    - Two children : For non-leaf nodes, the children nodes. The first\n",
       " *      children (i.e. \"node.children[0]\") is the negative children (drawn in\n",
       " *      red). The second children is the positive one (drawn in green).\n",
       " *\n",
       " */\n",
       "\n",
       "/**\n",
       " * Plots a single decision tree into a DOM element.\n",
       " * @param {!options} options Dictionary of configurations.\n",
       " * @param {!tree} raw_tree Recursive tree structure.\n",
       " * @param {string} canvas_id Id of the output dom element.\n",
       " */\n",
       "function display_tree(options, raw_tree, canvas_id) {\n",
       "  console.log(options);\n",
       "\n",
       "  // Determine the node placement.\n",
       "  const tree_struct = d3.tree().nodeSize(\n",
       "      [options.node_y_offset, options.node_x_offset])(d3.hierarchy(raw_tree));\n",
       "\n",
       "  // Boundaries of the node placement.\n",
       "  let x_min = Infinity;\n",
       "  let x_max = -x_min;\n",
       "  let y_min = Infinity;\n",
       "  let y_max = -x_min;\n",
       "\n",
       "  tree_struct.each(d => {\n",
       "    if (d.x > x_max) x_max = d.x;\n",
       "    if (d.x < x_min) x_min = d.x;\n",
       "    if (d.y > y_max) y_max = d.y;\n",
       "    if (d.y < y_min) y_min = d.y;\n",
       "  });\n",
       "\n",
       "  // Size of the plot.\n",
       "  const width = y_max - y_min + options.node_x_size + options.margin * 2;\n",
       "  const height = x_max - x_min + options.node_y_size + options.margin * 2 +\n",
       "      options.node_y_offset - options.node_y_size;\n",
       "\n",
       "  const plot = d3.select(canvas_id);\n",
       "\n",
       "  // Tool tip\n",
       "  options.tooltip = plot.append('div')\n",
       "                        .attr('width', 100)\n",
       "                        .attr('height', 100)\n",
       "                        .style('padding', '4px')\n",
       "                        .style('background', '#fff')\n",
       "                        .style('box-shadow', '4px 4px 0px rgba(0,0,0,0.1)')\n",
       "                        .style('border', '1px solid black')\n",
       "                        .style('font-family', 'sans-serif')\n",
       "                        .style('font-size', options.font_size)\n",
       "                        .style('position', 'absolute')\n",
       "                        .style('z-index', '10')\n",
       "                        .attr('pointer-events', 'none')\n",
       "                        .style('display', 'none');\n",
       "\n",
       "  // Create canvas\n",
       "  const svg = plot.append('svg').attr('width', width).attr('height', height);\n",
       "  const graph =\n",
       "      svg.style('overflow', 'visible')\n",
       "          .append('g')\n",
       "          .attr('font-family', 'sans-serif')\n",
       "          .attr('font-size', options.font_size)\n",
       "          .attr(\n",
       "              'transform',\n",
       "              () => `translate(${options.margin},${\n",
       "                  - x_min + options.node_y_offset / 2 + options.margin})`);\n",
       "\n",
       "  // Plot bounding box.\n",
       "  if (options.show_plot_bounding_box) {\n",
       "    svg.append('rect')\n",
       "        .attr('width', width)\n",
       "        .attr('height', height)\n",
       "        .attr('fill', 'none')\n",
       "        .attr('stroke-width', 1.0)\n",
       "        .attr('stroke', 'black');\n",
       "  }\n",
       "\n",
       "  // Draw the edges.\n",
       "  display_edges(options, graph, tree_struct);\n",
       "\n",
       "  // Draw the nodes.\n",
       "  display_nodes(options, graph, tree_struct);\n",
       "}\n",
       "\n",
       "/**\n",
       " * Draw the nodes of the tree.\n",
       " * @param {!options} options Dictionary of configurations.\n",
       " * @param {!graph} graph D3 search handle containing the graph.\n",
       " * @param {!tree_struct} tree_struct Structure of the tree (node placement,\n",
       " *     data, etc.).\n",
       " */\n",
       "function display_nodes(options, graph, tree_struct) {\n",
       "  const nodes = graph.append('g')\n",
       "                    .selectAll('g')\n",
       "                    .data(tree_struct.descendants())\n",
       "                    .join('g')\n",
       "                    .attr('transform', d => `translate(${d.y},${d.x})`);\n",
       "\n",
       "  nodes.append('rect')\n",
       "      .attr('x', 0.5)\n",
       "      .attr('y', 0.5)\n",
       "      .attr('width', options.node_x_size)\n",
       "      .attr('height', options.node_y_size)\n",
       "      .attr('stroke', 'lightgrey')\n",
       "      .attr('stroke-width', 1)\n",
       "      .attr('fill', 'white')\n",
       "      .attr('y', -options.node_y_size / 2);\n",
       "\n",
       "  // Brackets on the right of condition nodes without children.\n",
       "  non_leaf_node_without_children =\n",
       "      nodes.filter(node => node.data.condition != null && node.children == null)\n",
       "          .append('g')\n",
       "          .attr('transform', `translate(${options.node_x_size},0)`);\n",
       "\n",
       "  non_leaf_node_without_children.append('path')\n",
       "      .attr('d', 'M0,0 C 10,0 0,10 10,10')\n",
       "      .attr('fill', 'none')\n",
       "      .attr('stroke-width', 1.0)\n",
       "      .attr('stroke', '#F00');\n",
       "\n",
       "  non_leaf_node_without_children.append('path')\n",
       "      .attr('d', 'M0,0 C 10,0 0,-10 10,-10')\n",
       "      .attr('fill', 'none')\n",
       "      .attr('stroke-width', 1.0)\n",
       "      .attr('stroke', '#0F0');\n",
       "\n",
       "  const node_content = nodes.append('g').attr(\n",
       "      'transform',\n",
       "      `translate(0,${options.node_padding - options.node_y_size / 2})`);\n",
       "\n",
       "  node_content.append(node => create_node_element(options, node));\n",
       "}\n",
       "\n",
       "/**\n",
       " * Creates the D3 content for a single node.\n",
       " * @param {!options} options Dictionary of configurations.\n",
       " * @param {!node} node Node to draw.\n",
       " * @return {!d3} D3 content.\n",
       " */\n",
       "function create_node_element(options, node) {\n",
       "  // Output accumulator.\n",
       "  let output = {\n",
       "    // Content to draw.\n",
       "    content: d3.create('svg:g'),\n",
       "    // Vertical offset to the next element to draw.\n",
       "    vertical_offset: 0\n",
       "  };\n",
       "\n",
       "  // Conditions.\n",
       "  if (node.data.condition != null) {\n",
       "    display_condition(options, node.data.condition, output);\n",
       "  }\n",
       "\n",
       "  // Values.\n",
       "  if (node.data.value != null) {\n",
       "    display_value(options, node.data.value, output);\n",
       "  }\n",
       "\n",
       "  // Explanations.\n",
       "  if (node.data.explanation != null) {\n",
       "    display_explanation(options, node.data.explanation, output);\n",
       "  }\n",
       "\n",
       "  return output.content.node();\n",
       "}\n",
       "\n",
       "\n",
       "/**\n",
       " * Adds a single line of text inside of a node.\n",
       " * @param {!options} options Dictionary of configurations.\n",
       " * @param {string} text Text to display.\n",
       " * @param {!output} output Output display accumulator.\n",
       " */\n",
       "function display_node_text(options, text, output) {\n",
       "  output.content.append('text')\n",
       "      .attr('x', options.node_padding)\n",
       "      .attr('y', output.vertical_offset)\n",
       "      .attr('alignment-baseline', 'hanging')\n",
       "      .text(text);\n",
       "  output.vertical_offset += 10;\n",
       "}\n",
       "\n",
       "/**\n",
       " * Adds a single line of text inside of a node with a tooltip.\n",
       " * @param {!options} options Dictionary of configurations.\n",
       " * @param {string} text Text to display.\n",
       " * @param {string} tooltip Text in the Tooltip.\n",
       " * @param {!output} output Output display accumulator.\n",
       " */\n",
       "function display_node_text_with_tooltip(options, text, tooltip, output) {\n",
       "  const item = output.content.append('text')\n",
       "                   .attr('x', options.node_padding)\n",
       "                   .attr('alignment-baseline', 'hanging')\n",
       "                   .text(text);\n",
       "\n",
       "  add_tooltip(options, item, () => tooltip);\n",
       "  output.vertical_offset += 10;\n",
       "}\n",
       "\n",
       "/**\n",
       " * Adds a tooltip to a dom element.\n",
       " * @param {!options} options Dictionary of configurations.\n",
       " * @param {!dom} target Dom element to equip with a tooltip.\n",
       " * @param {!func} get_content Generates the html content of the tooltip.\n",
       " */\n",
       "function add_tooltip(options, target, get_content) {\n",
       "  function show(d) {\n",
       "    options.tooltip.style('display', 'block');\n",
       "    options.tooltip.html(get_content());\n",
       "  }\n",
       "\n",
       "  function hide(d) {\n",
       "    options.tooltip.style('display', 'none');\n",
       "  }\n",
       "\n",
       "  function move(d) {\n",
       "    options.tooltip.style('display', 'block');\n",
       "    options.tooltip.style('left', (d.pageX + 5) + 'px');\n",
       "    options.tooltip.style('top', d.pageY + 'px');\n",
       "  }\n",
       "\n",
       "  target.on('mouseover', show);\n",
       "  target.on('mouseout', hide);\n",
       "  target.on('mousemove', move);\n",
       "}\n",
       "\n",
       "/**\n",
       " * Adds a condition inside of a node.\n",
       " * @param {!options} options Dictionary of configurations.\n",
       " * @param {!condition} condition Condition to display.\n",
       " * @param {!output} output Output display accumulator.\n",
       " */\n",
       "function display_condition(options, condition, output) {\n",
       "  threshold_format = d3.format('r');\n",
       "\n",
       "  if (condition.type === 'IS_MISSING') {\n",
       "    display_node_text(options, `${condition.attribute} is missing`, output);\n",
       "    return;\n",
       "  }\n",
       "\n",
       "  if (condition.type === 'IS_TRUE') {\n",
       "    display_node_text(options, `${condition.attribute} is true`, output);\n",
       "    return;\n",
       "  }\n",
       "\n",
       "  if (condition.type === 'NUMERICAL_IS_HIGHER_THAN') {\n",
       "    format = d3.format('r');\n",
       "    display_node_text(\n",
       "        options,\n",
       "        `${condition.attribute} >= ${threshold_format(condition.threshold)}`,\n",
       "        output);\n",
       "    return;\n",
       "  }\n",
       "\n",
       "  if (condition.type === 'CATEGORICAL_IS_IN') {\n",
       "    display_node_text_with_tooltip(\n",
       "        options, `${condition.attribute} in [...]`,\n",
       "        `${condition.attribute} in [${condition.mask}]`, output);\n",
       "    return;\n",
       "  }\n",
       "\n",
       "  if (condition.type === 'CATEGORICAL_SET_CONTAINS') {\n",
       "    display_node_text_with_tooltip(\n",
       "        options, `${condition.attribute} intersect [...]`,\n",
       "        `${condition.attribute} intersect [${condition.mask}]`, output);\n",
       "    return;\n",
       "  }\n",
       "\n",
       "  if (condition.type === 'NUMERICAL_SPARSE_OBLIQUE') {\n",
       "    display_node_text_with_tooltip(\n",
       "        options, `Sparse oblique split...`,\n",
       "        `[${condition.attributes}]*[${condition.weights}]>=${\n",
       "            threshold_format(condition.threshold)}`,\n",
       "        output);\n",
       "    return;\n",
       "  }\n",
       "\n",
       "  display_node_text(\n",
       "      options, `Non supported condition ${condition.type}`, output);\n",
       "}\n",
       "\n",
       "/**\n",
       " * Adds a value inside of a node.\n",
       " * @param {!options} options Dictionary of configurations.\n",
       " * @param {!value} value Value to display.\n",
       " * @param {!output} output Output display accumulator.\n",
       " */\n",
       "function display_value(options, value, output) {\n",
       "  if (value.type === 'PROBABILITY') {\n",
       "    const left_margin = 0;\n",
       "    const right_margin = 50;\n",
       "    const plot_width = options.node_x_size - options.node_padding * 2 -\n",
       "        left_margin - right_margin;\n",
       "\n",
       "    let cusum = Array.from(d3.cumsum(value.distribution));\n",
       "    cusum.unshift(0);\n",
       "    const distribution_plot = output.content.append('g').attr(\n",
       "        'transform', `translate(0,${output.vertical_offset + 0.5})`);\n",
       "\n",
       "    distribution_plot.selectAll('rect')\n",
       "        .data(value.distribution)\n",
       "        .join('rect')\n",
       "        .attr('height', 10)\n",
       "        .attr(\n",
       "            'x',\n",
       "            (d, i) =>\n",
       "                (cusum[i] * plot_width + left_margin + options.node_padding))\n",
       "        .attr('width', (d, i) => d * plot_width)\n",
       "        .style('fill', (d, i) => d3.schemeSet1[i]);\n",
       "\n",
       "    const num_examples =\n",
       "        output.content.append('g')\n",
       "            .attr('transform', `translate(0,${output.vertical_offset})`)\n",
       "            .append('text')\n",
       "            .attr('x', options.node_x_size - options.node_padding)\n",
       "            .attr('alignment-baseline', 'hanging')\n",
       "            .attr('text-anchor', 'end')\n",
       "            .text(`(${value.num_examples})`);\n",
       "\n",
       "    const distribution_details = d3.create('ul');\n",
       "    distribution_details.selectAll('li')\n",
       "        .data(value.distribution)\n",
       "        .join('li')\n",
       "        .append('span')\n",
       "        .text(\n",
       "            (d, i) =>\n",
       "                'class ' + i + ': ' + d3.format('.3%')(value.distribution[i]));\n",
       "\n",
       "    add_tooltip(options, distribution_plot, () => distribution_details.html());\n",
       "    add_tooltip(options, num_examples, () => 'Number of examples');\n",
       "\n",
       "    output.vertical_offset += 10;\n",
       "    return;\n",
       "  }\n",
       "\n",
       "  if (value.type === 'REGRESSION') {\n",
       "    display_node_text(\n",
       "        options,\n",
       "        'value: ' + d3.format('r')(value.value) + ` (` +\n",
       "            d3.format('.6')(value.num_examples) + `)`,\n",
       "        output);\n",
       "    return;\n",
       "  }\n",
       "\n",
       "  if (value.type === 'UPLIFT') {\n",
       "    display_node_text(\n",
       "        options,\n",
       "        'effect: ' + d3.format('r')(value.treatment_effect) + ` (` +\n",
       "            d3.format('.6')(value.num_examples) + `)`,\n",
       "        output);\n",
       "    return;\n",
       "  }\n",
       "\n",
       "  display_node_text(options, `Non supported value ${value.type}`, output);\n",
       "}\n",
       "\n",
       "/**\n",
       " * Adds an explanation inside of a node.\n",
       " * @param {!options} options Dictionary of configurations.\n",
       " * @param {!explanation} explanation Explanation to display.\n",
       " * @param {!output} output Output display accumulator.\n",
       " */\n",
       "function display_explanation(options, explanation, output) {\n",
       "  // Margin before the explanation.\n",
       "  output.vertical_offset += 10;\n",
       "\n",
       "  display_node_text(\n",
       "      options, `Non supported explanation ${explanation.type}`, output);\n",
       "}\n",
       "\n",
       "\n",
       "/**\n",
       " * Draw the edges of the tree.\n",
       " * @param {!options} options Dictionary of configurations.\n",
       " * @param {!graph} graph D3 search handle containing the graph.\n",
       " * @param {!tree_struct} tree_struct Structure of the tree (node placement,\n",
       " *     data, etc.).\n",
       " */\n",
       "function display_edges(options, graph, tree_struct) {\n",
       "  // Draw an edge between a parent and a child node with a bezier.\n",
       "  function draw_single_edge(d) {\n",
       "    return 'M' + (d.source.y + options.node_x_size) + ',' + d.source.x + ' C' +\n",
       "        (d.source.y + options.node_x_size + options.edge_rounding) + ',' +\n",
       "        d.source.x + ' ' + (d.target.y - options.edge_rounding) + ',' +\n",
       "        d.target.x + ' ' + d.target.y + ',' + d.target.x;\n",
       "  }\n",
       "\n",
       "  graph.append('g')\n",
       "      .attr('fill', 'none')\n",
       "      .attr('stroke-width', 1.2)\n",
       "      .selectAll('path')\n",
       "      .data(tree_struct.links())\n",
       "      .join('path')\n",
       "      .attr('d', draw_single_edge)\n",
       "      .attr(\n",
       "          'stroke', d => (d.target === d.source.children[0]) ? '#0F0' : '#F00');\n",
       "}\n",
       "\n",
       "display_tree({\"margin\": 10, \"node_x_size\": 160, \"node_y_size\": 28, \"node_x_offset\": 180, \"node_y_offset\": 33, \"font_size\": 10, \"edge_rounding\": 20, \"node_padding\": 2, \"show_plot_bounding_box\": false}, {\"value\": {\"type\": \"PROBABILITY\", \"distribution\": [0.4958100558659218, 0.5041899441340782], \"num_examples\": 716.0}, \"condition\": {\"type\": \"CATEGORICAL_IS_IN\", \"attribute\": \"category\", \"mask\": [\"<OOD>\", \"Skate Shoes\", \"Training Shoes\", \"Slides\", \"Road Running Shoes (Extra Wide)\", \"Running Shoes (Extra Wide)\", \"Baseball Cleats\", \"Unisex Shoe\", \"Multi-Ground Soccer Cleats\", \"Custom  Shoes\", \"College Offcourt Slides\"]}, \"children\": [{\"value\": {\"type\": \"PROBABILITY\", \"distribution\": [0.8595505617977528, 0.1404494382022472], \"num_examples\": 178.0}, \"condition\": {\"type\": \"NUMERICAL_SPARSE_OBLIQUE\", \"attributes\": [\"isBestSeller\", \"isMemberExclusive\"], \"weights\": [-1.0, 1.0], \"threshold\": 0.5}, \"children\": [{\"value\": {\"type\": \"PROBABILITY\", \"distribution\": [0.14285714285714285, 0.8571428571428571], \"num_examples\": 14.0}, \"condition\": {\"type\": \"NUMERICAL_SPARSE_OBLIQUE\", \"attributes\": [\"isBestSeller\", \"isMemberExclusive\", \"isNew\", \"numColors\"], \"weights\": [-1.0, -1.0, 1.0, 0.3333333432674408], \"threshold\": -0.1666666567325592}, \"children\": [{\"value\": {\"type\": \"PROBABILITY\", \"distribution\": [0.0, 1.0], \"num_examples\": 6.0}}, {\"value\": {\"type\": \"PROBABILITY\", \"distribution\": [0.25, 0.75], \"num_examples\": 8.0}}]}, {\"value\": {\"type\": \"PROBABILITY\", \"distribution\": [0.9207317073170732, 0.07926829268292683], \"num_examples\": 164.0}, \"condition\": {\"type\": \"CATEGORICAL_IS_IN\", \"attribute\": \"Color_2\", \"mask\": [\"White\", \"Pure Platinum\", \"Summit White\", \"Light Silver\", \"Metallic Silver\", \"Wolf Grey\", \"University Red\", \"Phantom\", \"Pink Oxford\", \"Picante Red\", \"Cool Grey\", \"Rush Fuchsia\", \"Game Royal\"]}, \"children\": [{\"value\": {\"type\": \"PROBABILITY\", \"distribution\": [1.0, 0.0], \"num_examples\": 55.0}}, {\"value\": {\"type\": \"PROBABILITY\", \"distribution\": [0.8807339449541285, 0.11926605504587157], \"num_examples\": 109.0}, \"condition\": {\"type\": \"CATEGORICAL_IS_IN\", \"attribute\": \"Shoe_name\", \"mask\": [\"<OOD>\", \"Free Metcon 5\", \"SB Zoom Blazer Mid\", \"Flex Experience Run 11\", \"SB Zoom Nyjah 3\", \"Alpha Huarache Elite 4 Low\", \"In-Season TR 13\", \"Calm\", \"SB Zoom Pogo Plus Premium\"]}, \"children\": [{\"value\": {\"type\": \"PROBABILITY\", \"distribution\": [0.9368421052631579, 0.06315789473684211], \"num_examples\": 95.0}, \"condition\": {\"type\": \"CATEGORICAL_IS_IN\", \"attribute\": \"category\", \"mask\": [\"<OOD>\", \"Training Shoes\"]}}, {\"value\": {\"type\": \"PROBABILITY\", \"distribution\": [0.5, 0.5], \"num_examples\": 14.0}, \"condition\": {\"type\": \"CATEGORICAL_IS_IN\", \"attribute\": \"Gender\", \"mask\": [\"Men\"]}}]}]}]}, {\"value\": {\"type\": \"PROBABILITY\", \"distribution\": [0.3754646840148699, 0.6245353159851301], \"num_examples\": 538.0}, \"condition\": {\"type\": \"CATEGORICAL_IS_IN\", \"attribute\": \"Shoe_name\", \"mask\": [\"<OOD>\", \"Waffle Debut\", \"Air Max Pulse\", \"Air Force 1 '07\", \"Legend Essential 3 Next Nature\", \"Air Max 97\", \"Roshe G Next Nature\", \"Air Max SC SE\", \"Air Force 1 LX United\", \"Streakfly\", \"Revolution 6\", \"Renew Ride 3\", \"Court Legacy Lift\", \"Court Air Zoom Vapor Pro 2\", \"Air Zoom Infinity Tour NEXT%\", \"Air Max Solo\", \"SuperRep Go 3 Next Nature Flyknit\", \"Pegasus Trail 4\", \"Court Legacy Next Nature\", \"Blazer Mid '77 Vintage\"]}, \"children\": [{\"value\": {\"type\": \"PROBABILITY\", \"distribution\": [0.5858585858585859, 0.41414141414141414], \"num_examples\": 297.0}, \"condition\": {\"type\": \"CATEGORICAL_IS_IN\", \"attribute\": \"Gender\", \"mask\": [\"Women\", \"Slide\"]}, \"children\": [{\"value\": {\"type\": \"PROBABILITY\", \"distribution\": [0.7661290322580645, 0.23387096774193547], \"num_examples\": 124.0}, \"condition\": {\"type\": \"CATEGORICAL_IS_IN\", \"attribute\": \"Color_4\", \"mask\": [\"White\", \"Sail\", \"Obsidian\", \"Hyper Pink\", \"Summit White\"]}, \"children\": [{\"value\": {\"type\": \"PROBABILITY\", \"distribution\": [1.0, 0.0], \"num_examples\": 25.0}}, {\"value\": {\"type\": \"PROBABILITY\", \"distribution\": [0.7070707070707071, 0.29292929292929293], \"num_examples\": 99.0}, \"condition\": {\"type\": \"CATEGORICAL_IS_IN\", \"attribute\": \"Shoe_name\", \"mask\": [\"<OOD>\", \"Waffle Debut\", \"Air Max Pulse\", \"Pegasus Trail 4\"]}}]}, {\"value\": {\"type\": \"PROBABILITY\", \"distribution\": [0.45664739884393063, 0.5433526011560693], \"num_examples\": 173.0}, \"condition\": {\"type\": \"CATEGORICAL_IS_IN\", \"attribute\": \"Shoe_name\", \"mask\": [\"<OOD>\", \"Waffle Debut\", \"Air Max Pulse\", \"Air Force 1 '07\", \"Air Max 97\", \"Streakfly\", \"Court Air Zoom Vapor Pro 2\", \"Air Zoom Infinity Tour NEXT%\", \"SuperRep Go 3 Next Nature Flyknit\"]}, \"children\": [{\"value\": {\"type\": \"PROBABILITY\", \"distribution\": [0.3561643835616438, 0.6438356164383562], \"num_examples\": 146.0}, \"condition\": {\"type\": \"CATEGORICAL_IS_IN\", \"attribute\": \"category\", \"mask\": [\"Shoes\", \"Basketball Shoes\", \"Golf Shoes\", \"Road Racing Shoes\", \"Football Cleats\", \"Shoe\"]}}, {\"value\": {\"type\": \"PROBABILITY\", \"distribution\": [1.0, 0.0], \"num_examples\": 27.0}}]}]}, {\"value\": {\"type\": \"PROBABILITY\", \"distribution\": [0.11618257261410789, 0.8838174273858921], \"num_examples\": 241.0}, \"condition\": {\"type\": \"CATEGORICAL_IS_IN\", \"attribute\": \"Shoe_name\", \"mask\": [\"Court Air Zoom Vapor 11\", \"Pegasus 39 (NFL Denver Broncos)\", \"Air Force 1 Shadow\", \"Waffle One\", \"Gamma Force\", \"Air Winflo 10\", \"Air Max Terrascape 90\", \"Air Max 97 SE\", \"Dunk High Retro\", \"Blazer Low Platform\"]}, \"children\": [{\"value\": {\"type\": \"PROBABILITY\", \"distribution\": [0.3783783783783784, 0.6216216216216216], \"num_examples\": 74.0}, \"condition\": {\"type\": \"CATEGORICAL_IS_IN\", \"attribute\": \"Shoe_name\", \"mask\": [\"Waffle One\", \"Gamma Force\", \"Air Winflo 10\", \"Air Max 97 SE\", \"Blazer Low Platform\"]}, \"children\": [{\"value\": {\"type\": \"PROBABILITY\", \"distribution\": [0.8235294117647058, 0.17647058823529413], \"num_examples\": 34.0}, \"condition\": {\"type\": \"CATEGORICAL_IS_IN\", \"attribute\": \"Color_2\", \"mask\": [\"Black\"]}}, {\"value\": {\"type\": \"PROBABILITY\", \"distribution\": [0.0, 1.0], \"num_examples\": 40.0}}]}, {\"value\": {\"type\": \"PROBABILITY\", \"distribution\": [0.0, 1.0], \"num_examples\": 167.0}}]}]}]}, \"#tree_plot_819e0fd0eec545538f7a9186a865cf30\")\n",
       "</script>\n"
      ],
      "text/plain": [
       "<IPython.core.display.HTML object>"
      ]
     },
     "execution_count": 746,
     "metadata": {},
     "output_type": "execute_result"
    }
   ],
   "source": [
    "tfdf.model_plotter.plot_model_in_colab(model, tree_idx=0, max_depth=4)\n",
    "# tfdf.model_plotter.plot_tree(model)"
   ]
  },
  {
   "cell_type": "markdown",
   "id": "93e170dc",
   "metadata": {
    "id": "1q5zxzuLmnjb",
    "papermill": {
     "duration": 0.027024,
     "end_time": "2023-07-14T05:00:54.817808",
     "exception": false,
     "start_time": "2023-07-14T05:00:54.790784",
     "status": "completed"
    },
    "tags": []
   },
   "source": [
    "# Evaluate the model on the Out of bag (OOB) data and the validation dataset\n",
    "\n",
    "Before training the dataset we have manually seperated 20% of the dataset for validation named as `valid_ds`.\n",
    "\n",
    "We can also use Out of bag (OOB) score to validate our RandomForestModel.\n",
    "To train a Random Forest Model, a set of random samples from training set are choosen by the algorithm and the rest of the samples are used to finetune the model.The subset of data that is not chosen is known as Out of bag data (OOB).\n",
    "OOB score is computed on the OOB data.\n",
    "\n",
    "Read more about OOB data [here](https://developers.google.com/machine-learning/decision-forests/out-of-bag).\n",
    "\n",
    "The training logs show the accuracy evaluated on the out-of-bag dataset according to the number of trees in the model. Let us plot this.\n",
    "\n",
    "Note: Larger values are better for this hyperparameter."
   ]
  },
  {
   "cell_type": "code",
   "execution_count": 747,
   "id": "a4cd4240",
   "metadata": {
    "execution": {
     "iopub.execute_input": "2023-07-14T05:00:54.874032Z",
     "iopub.status.busy": "2023-07-14T05:00:54.873564Z",
     "iopub.status.idle": "2023-07-14T05:00:55.258470Z",
     "shell.execute_reply": "2023-07-14T05:00:55.257110Z"
    },
    "id": "z7u4IuAQmnjb",
    "papermill": {
     "duration": 0.416952,
     "end_time": "2023-07-14T05:00:55.261627",
     "exception": false,
     "start_time": "2023-07-14T05:00:54.844675",
     "status": "completed"
    },
    "tags": []
   },
   "outputs": [
    {
     "data": {
      "image/png": "[encoded data removed]",
      "text/plain": [
       "<Figure size 1200x400 with 2 Axes>"
      ]
     },
     "metadata": {},
     "output_type": "display_data"
    }
   ],
   "source": [
    "import matplotlib.pyplot as plt\n",
    "logs = model.make_inspector().training_logs()\n",
    "\n",
    "plt.figure(figsize=(12, 4))\n",
    "\n",
    "plt.subplot(1, 2, 1)\n",
    "plt.plot([log.num_trees for log in logs], [log.evaluation.accuracy for log in logs])\n",
    "plt.xlabel(\"Number of trees\")\n",
    "plt.ylabel(\"Accuracy (out-of-bag)\")\n",
    "\n",
    "plt.subplot(1, 2, 2)\n",
    "plt.plot([log.num_trees for log in logs], [log.evaluation.loss for log in logs])\n",
    "plt.xlabel(\"Number of trees\")\n",
    "plt.ylabel(\"Logloss (out-of-bag)\")\n",
    "\n",
    "plt.show()"
   ]
  },
  {
   "cell_type": "markdown",
   "id": "282c3b2b",
   "metadata": {
    "id": "N24V7vhAmnjb",
    "papermill": {
     "duration": 0.027181,
     "end_time": "2023-07-14T05:00:55.316563",
     "exception": false,
     "start_time": "2023-07-14T05:00:55.289382",
     "status": "completed"
    },
    "tags": []
   },
   "source": [
    "We can also see some general stats on the OOB dataset:"
   ]
  },
  {
   "cell_type": "code",
   "execution_count": 748,
   "id": "0e5b9f54",
   "metadata": {
    "execution": {
     "iopub.execute_input": "2023-07-14T05:00:55.374943Z",
     "iopub.status.busy": "2023-07-14T05:00:55.374209Z",
     "iopub.status.idle": "2023-07-14T05:00:55.385479Z",
     "shell.execute_reply": "2023-07-14T05:00:55.384114Z"
    },
    "id": "QTD92zMGmnjc",
    "papermill": {
     "duration": 0.044514,
     "end_time": "2023-07-14T05:00:55.388497",
     "exception": false,
     "start_time": "2023-07-14T05:00:55.343983",
     "status": "completed"
    },
    "tags": []
   },
   "outputs": [
    {
     "data": {
      "text/plain": [
       "Evaluation(num_examples=716, accuracy=0.8784916201117319, loss=0.5514808776190078, rmse=None, ndcg=None, aucs=None, auuc=None, qini=None)"
      ]
     },
     "execution_count": 748,
     "metadata": {},
     "output_type": "execute_result"
    }
   ],
   "source": [
    "inspector = model.make_inspector()\n",
    "inspector.evaluation()"
   ]
  },
  {
   "cell_type": "markdown",
   "id": "07209f08",
   "metadata": {
    "id": "SuVS0BGXmnjd",
    "papermill": {
     "duration": 0.027823,
     "end_time": "2023-07-14T05:00:55.444346",
     "exception": false,
     "start_time": "2023-07-14T05:00:55.416523",
     "status": "completed"
    },
    "tags": []
   },
   "source": [
    "Now, let us run an evaluation using the validation dataset."
   ]
  },
  {
   "cell_type": "code",
   "execution_count": 749,
   "id": "4739b139",
   "metadata": {
    "execution": {
     "iopub.execute_input": "2023-07-14T05:00:55.503272Z",
     "iopub.status.busy": "2023-07-14T05:00:55.502154Z",
     "iopub.status.idle": "2023-07-14T05:00:56.116417Z",
     "shell.execute_reply": "2023-07-14T05:00:56.115383Z"
    },
    "id": "C0SfSxc0mnjd",
    "papermill": {
     "duration": 0.646454,
     "end_time": "2023-07-14T05:00:56.119121",
     "exception": false,
     "start_time": "2023-07-14T05:00:55.472667",
     "status": "completed"
    },
    "tags": []
   },
   "outputs": [
    {
     "name": "stdout",
     "output_type": "stream",
     "text": [
      "1/1 [==============================] - 0s 107ms/step - loss: 0.0000e+00 - accuracy: 0.8385\n",
      "loss: 0.0000\n",
      "accuracy: 0.8385\n"
     ]
    },
    {
     "name": "stderr",
     "output_type": "stream",
     "text": [
      "2023-07-20 19:59:59.385388: I tensorflow/core/grappler/optimizers/custom_graph_optimizer_registry.cc:114] Plugin optimizer for device_type GPU is enabled.\n"
     ]
    }
   ],
   "source": [
    "evaluation = model.evaluate(x=valid_ds,return_dict=True)\n",
    "\n",
    "for name, value in evaluation.items():\n",
    "  print(f\"{name}: {value:.4f}\")"
   ]
  },
  {
   "cell_type": "markdown",
   "id": "13daba13",
   "metadata": {
    "id": "cgAI1XrVmnje",
    "papermill": {
     "duration": 0.027956,
     "end_time": "2023-07-14T05:00:56.176025",
     "exception": false,
     "start_time": "2023-07-14T05:00:56.148069",
     "status": "completed"
    },
    "tags": []
   },
   "source": [
    "# Variable importances\n",
    "\n",
    "Variable importances generally indicate how much a feature contributes to the model predictions or quality. There are several ways to identify important features using TensorFlow Decision Forests.\n",
    "Let us list the available `Variable Importances` for Decision Trees:"
   ]
  },
  {
   "cell_type": "code",
   "execution_count": 750,
   "id": "93589b6b",
   "metadata": {
    "execution": {
     "iopub.execute_input": "2023-07-14T05:00:56.235443Z",
     "iopub.status.busy": "2023-07-14T05:00:56.234256Z",
     "iopub.status.idle": "2023-07-14T05:00:56.242416Z",
     "shell.execute_reply": "2023-07-14T05:00:56.240999Z"
    },
    "id": "BdPN_fV1mnje",
    "papermill": {
     "duration": 0.041186,
     "end_time": "2023-07-14T05:00:56.245566",
     "exception": false,
     "start_time": "2023-07-14T05:00:56.204380",
     "status": "completed"
    },
    "tags": []
   },
   "outputs": [
    {
     "name": "stdout",
     "output_type": "stream",
     "text": [
      "Available variable importances:\n",
      "\t INV_MEAN_MIN_DEPTH\n",
      "\t NUM_AS_ROOT\n",
      "\t SUM_SCORE\n",
      "\t NUM_NODES\n"
     ]
    }
   ],
   "source": [
    "print(f\"Available variable importances:\")\n",
    "for importance in inspector.variable_importances().keys():\n",
    "  print(\"\\t\", importance)"
   ]
  },
  {
   "cell_type": "markdown",
   "id": "68f597d6",
   "metadata": {
    "id": "dr-nVQwCmnje",
    "papermill": {
     "duration": 0.027951,
     "end_time": "2023-07-14T05:00:56.302292",
     "exception": false,
     "start_time": "2023-07-14T05:00:56.274341",
     "status": "completed"
    },
    "tags": []
   },
   "source": [
    "As an example, let us display the important features for the Variable Importance `NUM_AS_ROOT`.\n",
    "\n",
    "The larger the importance score for `NUM_AS_ROOT`, the more impact it has on the outcome of the model.\n",
    "\n",
    "By default, the list is sorted from the most important to the least. From the output you can infer that the feature at the top of the list is used as the root node in most number of trees in the random forest than any other feature."
   ]
  },
  {
   "cell_type": "code",
   "execution_count": 751,
   "id": "d4e1d9a3",
   "metadata": {
    "execution": {
     "iopub.execute_input": "2023-07-14T05:00:56.361338Z",
     "iopub.status.busy": "2023-07-14T05:00:56.360668Z",
     "iopub.status.idle": "2023-07-14T05:00:56.368546Z",
     "shell.execute_reply": "2023-07-14T05:00:56.367358Z"
    },
    "id": "etYOifhfmnje",
    "papermill": {
     "duration": 0.040338,
     "end_time": "2023-07-14T05:00:56.371153",
     "exception": false,
     "start_time": "2023-07-14T05:00:56.330815",
     "status": "completed"
    },
    "tags": []
   },
   "outputs": [
    {
     "data": {
      "text/plain": [
       "[(\"category\" (4; #7), 8.0),\n",
       " (\"Shoe_name\" (4; #5), 6.0),\n",
       " (\"Color_2\" (4; #1), 3.0),\n",
       " (\"Gender\" (4; #4), 3.0),\n",
       " (\"inStock\" (1; #8), 3.0),\n",
       " (\"Color_4\" (4; #3), 2.0),\n",
       " (\"Color_1\" (4; #0), 1.0),\n",
       " (\"Color_3\" (4; #2), 1.0),\n",
       " (\"isBestSeller\" (1; #9), 1.0),\n",
       " (\"isMemberExclusive\" (1; #10), 1.0),\n",
       " (\"numColors\" (1; #13), 1.0)]"
      ]
     },
     "execution_count": 751,
     "metadata": {},
     "output_type": "execute_result"
    }
   ],
   "source": [
    "# Each line is: (feature name, (index of the feature), importance score)\n",
    "inspector.variable_importances()[\"NUM_AS_ROOT\"]"
   ]
  },
  {
   "cell_type": "code",
   "execution_count": 752,
   "id": "9a624a52",
   "metadata": {
    "execution": {
     "iopub.execute_input": "2023-07-14T05:00:56.432307Z",
     "iopub.status.busy": "2023-07-14T05:00:56.431401Z",
     "iopub.status.idle": "2023-07-14T05:00:56.440646Z",
     "shell.execute_reply": "2023-07-14T05:00:56.439292Z"
    },
    "papermill": {
     "duration": 0.04308,
     "end_time": "2023-07-14T05:00:56.443720",
     "exception": false,
     "start_time": "2023-07-14T05:00:56.400640",
     "status": "completed"
    },
    "tags": []
   },
   "outputs": [
    {
     "data": {
      "text/plain": [
       "[(\"Shoe_name\" (4; #5), 4907.827462727204),\n",
       " (\"category\" (4; #7), 2950.170100338757),\n",
       " (\"Color_2\" (4; #1), 1217.0167344547808),\n",
       " (\"Gender\" (4; #4), 899.9766959215049),\n",
       " (\"Color_3\" (4; #2), 729.0931899098214),\n",
       " (\"Color_1\" (4; #0), 672.4649134683423),\n",
       " (\"Color_4\" (4; #3), 349.6625102488324),\n",
       " (\"inStock\" (1; #8), 234.46243457868695),\n",
       " (\"isBestSeller\" (1; #9), 194.42538794409484),\n",
       " (\"isMemberExclusive\" (1; #10), 142.9331471156329),\n",
       " (\"numColors\" (1; #13), 73.82935590157285),\n",
       " (\"isNew\" (1; #11), 48.64059768250445),\n",
       " (\"isSustainable\" (1; #12), 30.652620039880276)]"
      ]
     },
     "execution_count": 752,
     "metadata": {},
     "output_type": "execute_result"
    }
   ],
   "source": [
    "inspector.variable_importances()[\"SUM_SCORE\"]"
   ]
  },
  {
   "cell_type": "code",
   "execution_count": 753,
   "id": "6fe224f8",
   "metadata": {
    "execution": {
     "iopub.execute_input": "2023-07-14T05:00:56.503655Z",
     "iopub.status.busy": "2023-07-14T05:00:56.502325Z",
     "iopub.status.idle": "2023-07-14T05:00:56.513430Z",
     "shell.execute_reply": "2023-07-14T05:00:56.512095Z"
    },
    "papermill": {
     "duration": 0.044313,
     "end_time": "2023-07-14T05:00:56.516511",
     "exception": false,
     "start_time": "2023-07-14T05:00:56.472198",
     "status": "completed"
    },
    "tags": []
   },
   "outputs": [
    {
     "data": {
      "text/plain": [
       "{'INV_MEAN_MIN_DEPTH': [(\"category\" (4; #7), 0.3518650068383934),\n",
       "  (\"Shoe_name\" (4; #5), 0.3034421180544773),\n",
       "  (\"Gender\" (4; #4), 0.20100182976821054),\n",
       "  (\"Color_2\" (4; #1), 0.17379145569798596),\n",
       "  (\"Color_3\" (4; #2), 0.15536295192117242),\n",
       "  (\"Color_1\" (4; #0), 0.13780971474376222),\n",
       "  (\"Color_4\" (4; #3), 0.1327757651097113),\n",
       "  (\"inStock\" (1; #8), 0.1283650895764267),\n",
       "  (\"isBestSeller\" (1; #9), 0.12055235312091295),\n",
       "  (\"numColors\" (1; #13), 0.11918199083767127),\n",
       "  (\"isMemberExclusive\" (1; #10), 0.11563157709002157),\n",
       "  (\"isSustainable\" (1; #12), 0.11176646100086961),\n",
       "  (\"isNew\" (1; #11), 0.11118491856394659)],\n",
       " 'NUM_AS_ROOT': [(\"category\" (4; #7), 8.0),\n",
       "  (\"Shoe_name\" (4; #5), 6.0),\n",
       "  (\"Color_2\" (4; #1), 3.0),\n",
       "  (\"Gender\" (4; #4), 3.0),\n",
       "  (\"inStock\" (1; #8), 3.0),\n",
       "  (\"Color_4\" (4; #3), 2.0),\n",
       "  (\"Color_1\" (4; #0), 1.0),\n",
       "  (\"Color_3\" (4; #2), 1.0),\n",
       "  (\"isBestSeller\" (1; #9), 1.0),\n",
       "  (\"isMemberExclusive\" (1; #10), 1.0),\n",
       "  (\"numColors\" (1; #13), 1.0)],\n",
       " 'SUM_SCORE': [(\"Shoe_name\" (4; #5), 4907.827462727204),\n",
       "  (\"category\" (4; #7), 2950.170100338757),\n",
       "  (\"Color_2\" (4; #1), 1217.0167344547808),\n",
       "  (\"Gender\" (4; #4), 899.9766959215049),\n",
       "  (\"Color_3\" (4; #2), 729.0931899098214),\n",
       "  (\"Color_1\" (4; #0), 672.4649134683423),\n",
       "  (\"Color_4\" (4; #3), 349.6625102488324),\n",
       "  (\"inStock\" (1; #8), 234.46243457868695),\n",
       "  (\"isBestSeller\" (1; #9), 194.42538794409484),\n",
       "  (\"isMemberExclusive\" (1; #10), 142.9331471156329),\n",
       "  (\"numColors\" (1; #13), 73.82935590157285),\n",
       "  (\"isNew\" (1; #11), 48.64059768250445),\n",
       "  (\"isSustainable\" (1; #12), 30.652620039880276)],\n",
       " 'NUM_NODES': [(\"Shoe_name\" (4; #5), 282.0),\n",
       "  (\"Color_2\" (4; #1), 245.0),\n",
       "  (\"category\" (4; #7), 224.0),\n",
       "  (\"Color_3\" (4; #2), 186.0),\n",
       "  (\"Color_1\" (4; #0), 152.0),\n",
       "  (\"Gender\" (4; #4), 110.0),\n",
       "  (\"Color_4\" (4; #3), 88.0),\n",
       "  (\"inStock\" (1; #8), 59.0),\n",
       "  (\"isBestSeller\" (1; #9), 56.0),\n",
       "  (\"isMemberExclusive\" (1; #10), 27.0),\n",
       "  (\"numColors\" (1; #13), 17.0),\n",
       "  (\"isNew\" (1; #11), 16.0),\n",
       "  (\"isSustainable\" (1; #12), 10.0)]}"
      ]
     },
     "execution_count": 753,
     "metadata": {},
     "output_type": "execute_result"
    }
   ],
   "source": [
    "inspector.variable_importances()"
   ]
  }
 ],
 "metadata": {
  "kernelspec": {
   "display_name": "Python 3",
   "language": "python",
   "name": "python3"
  },
  "language_info": {
   "codemirror_mode": {
    "name": "ipython",
    "version": 3
   },
   "file_extension": ".py",
   "mimetype": "text/x-python",
   "name": "python",
   "nbconvert_exporter": "python",
   "pygments_lexer": "ipython3",
   "version": "3.7.12"
  },
  "papermill": {
   "default_parameters": {},
   "duration": 172.773748,
   "end_time": "2023-07-14T05:01:00.758124",
   "environment_variables": {},
   "exception": null,
   "input_path": "__notebook__.ipynb",
   "output_path": "__notebook__.ipynb",
   "parameters": {},
   "start_time": "2023-07-14T04:58:07.984376",
   "version": "2.4.0"
  }
 },
 "nbformat": 4,
 "nbformat_minor": 5
}
